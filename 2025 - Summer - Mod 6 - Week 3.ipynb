{
 "cells": [
  {
   "cell_type": "code",
   "execution_count": 2,
   "id": "308a8577-14f6-4685-9e81-e40db096f21a",
   "metadata": {},
   "outputs": [],
   "source": [
    "# Simulation / bootstrapping and Fixed Effects"
   ]
  },
  {
   "cell_type": "code",
   "execution_count": 140,
   "id": "8f9496be-a516-4371-8ba9-6338b2831614",
   "metadata": {},
   "outputs": [],
   "source": [
    "import numpy as np\n",
    "import scipy\n",
    "import pandas as pd\n",
    "import matplotlib.pyplot as plt\n",
    "import statsmodels.api as sm\n",
    "from sklearn.metrics import root_mean_squared_error"
   ]
  },
  {
   "cell_type": "markdown",
   "id": "80ae0f5b-4d4f-40e3-89b5-b00322518a5c",
   "metadata": {},
   "source": [
    "## Fixed Effects"
   ]
  },
  {
   "cell_type": "code",
   "execution_count": 141,
   "id": "9b7aed91-1ccf-4f52-b3d2-3f16766803a7",
   "metadata": {},
   "outputs": [
    {
     "data": {
      "text/plain": [
       "array([ 0.58251298,  1.2070791 , -0.75072196, -0.12903591,  0.424848  ])"
      ]
     },
     "execution_count": 141,
     "metadata": {},
     "output_type": "execute_result"
    }
   ],
   "source": [
    "scipy.stats.norm.rvs(0, 1, (5,))"
   ]
  },
  {
   "cell_type": "code",
   "execution_count": 142,
   "id": "ef18b8f6-5c8c-4aa0-b3ce-3eea0e2b0b61",
   "metadata": {},
   "outputs": [],
   "source": [
    "num = 1000\n",
    "X1 = scipy.stats.norm.rvs(0, 1, (num,))\n",
    "X2 = scipy.stats.norm.rvs(0, 1, (num,))\n",
    "X3 = scipy.stats.norm.rvs(0, 1, (num,))\n",
    "Y1 = 3 * X1 + 5 + scipy.stats.norm.rvs(0, 1, (num,))\n",
    "Y2 = 3 * X2 + 10 + scipy.stats.norm.rvs(0, 1, (num,))\n",
    "Y3 = 3 * X3 + 15 + scipy.stats.norm.rvs(0, 1, (num,))"
   ]
  },
  {
   "cell_type": "code",
   "execution_count": 143,
   "id": "6cfc8317-d1f7-4b53-aa70-b4be6b654c41",
   "metadata": {},
   "outputs": [],
   "source": [
    "results = sm.OLS(Y1, sm.add_constant(X1)).fit()"
   ]
  },
  {
   "cell_type": "code",
   "execution_count": 144,
   "id": "f9bd0131-5833-4b51-93df-173cae61e2fb",
   "metadata": {},
   "outputs": [
    {
     "data": {
      "text/plain": [
       "array([4.98114029, 3.04761568])"
      ]
     },
     "execution_count": 144,
     "metadata": {},
     "output_type": "execute_result"
    }
   ],
   "source": [
    "results.params"
   ]
  },
  {
   "cell_type": "code",
   "execution_count": 145,
   "id": "59ccdbdc-d323-4e96-8775-8aa1bb02f349",
   "metadata": {},
   "outputs": [
    {
     "data": {
      "text/plain": [
       "array([0.03222661, 0.03325326])"
      ]
     },
     "execution_count": 145,
     "metadata": {},
     "output_type": "execute_result"
    }
   ],
   "source": [
    "results.bse"
   ]
  },
  {
   "cell_type": "code",
   "execution_count": 146,
   "id": "d3b4b04e-10ff-4e4b-b374-e964244fbad5",
   "metadata": {},
   "outputs": [
    {
     "data": {
      "text/plain": [
       "0.8938012371044817"
      ]
     },
     "execution_count": 146,
     "metadata": {},
     "output_type": "execute_result"
    }
   ],
   "source": [
    "results.rsquared"
   ]
  },
  {
   "cell_type": "code",
   "execution_count": 148,
   "id": "98fd0891-7865-4bf6-9912-91fb48013218",
   "metadata": {},
   "outputs": [
    {
     "data": {
      "text/plain": [
       "1.0180234084020547"
      ]
     },
     "execution_count": 148,
     "metadata": {},
     "output_type": "execute_result"
    }
   ],
   "source": [
    "np.std(results.resid)"
   ]
  },
  {
   "cell_type": "code",
   "execution_count": 149,
   "id": "f0a44483-d8cc-428d-96a2-1e99760a4656",
   "metadata": {},
   "outputs": [
    {
     "data": {
      "text/plain": [
       "1.0180234084020547"
      ]
     },
     "execution_count": 149,
     "metadata": {},
     "output_type": "execute_result"
    }
   ],
   "source": [
    "np.std(results.resid) # (resid_0 - resid_mean)^2 + (resid_1 - resid_mean)^2 + ...."
   ]
  },
  {
   "cell_type": "code",
   "execution_count": 150,
   "id": "37de30e2-d104-46cf-b693-5a2d8f3e20df",
   "metadata": {},
   "outputs": [
    {
     "data": {
      "text/plain": [
       "1.0180234084020547"
      ]
     },
     "execution_count": 150,
     "metadata": {},
     "output_type": "execute_result"
    }
   ],
   "source": [
    "root_mean_squared_error(Y1, results.predict(sm.add_constant(X1))) # Another way\n",
    "# (resid_0)^2 + (resid_1)^2 + ...."
   ]
  },
  {
   "cell_type": "code",
   "execution_count": 151,
   "id": "fbe1ebba-1793-42c7-a72c-8f2c50695a68",
   "metadata": {},
   "outputs": [
    {
     "data": {
      "text/plain": [
       "-7.993605777301127e-16"
      ]
     },
     "execution_count": 151,
     "metadata": {},
     "output_type": "execute_result"
    }
   ],
   "source": [
    "results.resid.mean()"
   ]
  },
  {
   "cell_type": "code",
   "execution_count": 109,
   "id": "996036ae-fc4d-413d-b68c-d341c67075e6",
   "metadata": {},
   "outputs": [
    {
     "data": {
      "text/plain": [
       "<matplotlib.collections.PathCollection at 0x179211a00>"
      ]
     },
     "execution_count": 109,
     "metadata": {},
     "output_type": "execute_result"
    },
    {
     "data": {
      "image/png": "[encoded data removed]",
      "text/plain": [
       "<Figure size 640x480 with 1 Axes>"
      ]
     },
     "metadata": {},
     "output_type": "display_data"
    }
   ],
   "source": [
    "plt.scatter(results.predict(sm.add_constant(X1)), Y1)"
   ]
  },
  {
   "cell_type": "code",
   "execution_count": 152,
   "id": "1ba74be6-4e9a-4059-afb6-54f473c2bee0",
   "metadata": {},
   "outputs": [
    {
     "data": {
      "text/plain": [
       "array([10.01695611,  3.03273586])"
      ]
     },
     "execution_count": 152,
     "metadata": {},
     "output_type": "execute_result"
    }
   ],
   "source": [
    "Y = np.hstack((Y1, Y2, Y3))\n",
    "X = np.hstack((X1, X2, X3))\n",
    "results_combined = sm.OLS(Y, sm.add_constant(X)).fit()\n",
    "results_combined.params # note that params do not match group 1, but likely will match group 2"
   ]
  },
  {
   "cell_type": "code",
   "execution_count": 153,
   "id": "ecdfb78b-ee03-4951-8d32-0bce015cbd36",
   "metadata": {},
   "outputs": [
    {
     "data": {
      "text/plain": [
       "array([0.07709793, 0.07760093])"
      ]
     },
     "execution_count": 153,
     "metadata": {},
     "output_type": "execute_result"
    }
   ],
   "source": [
    "results_combined.bse"
   ]
  },
  {
   "cell_type": "code",
   "execution_count": 154,
   "id": "c55dd7be-4b96-4bb3-bfb2-8c45c2f91209",
   "metadata": {},
   "outputs": [
    {
     "data": {
      "text/plain": [
       "0.33750811186669405"
      ]
     },
     "execution_count": 154,
     "metadata": {},
     "output_type": "execute_result"
    }
   ],
   "source": [
    "results_combined.rsquared # rsquared is _worse_ than for group 1 alone"
   ]
  },
  {
   "cell_type": "code",
   "execution_count": 155,
   "id": "b2054ec2-5eba-48fd-ba1e-dd699b28763d",
   "metadata": {},
   "outputs": [
    {
     "data": {
      "text/plain": [
       "4.221295549100452"
      ]
     },
     "execution_count": 155,
     "metadata": {},
     "output_type": "execute_result"
    }
   ],
   "source": [
    "np.std(results_combined.resid)"
   ]
  },
  {
   "cell_type": "code",
   "execution_count": 156,
   "id": "85ba3643-31f5-4164-9e40-f954e4e07d50",
   "metadata": {},
   "outputs": [
    {
     "data": {
      "text/plain": [
       "4.221295549100452"
      ]
     },
     "execution_count": 156,
     "metadata": {},
     "output_type": "execute_result"
    }
   ],
   "source": [
    "root_mean_squared_error(Y, results_combined.predict(sm.add_constant(X))) # another way"
   ]
  },
  {
   "cell_type": "code",
   "execution_count": 115,
   "id": "da5845dd-58f1-43fd-9f12-5d449473de32",
   "metadata": {},
   "outputs": [
    {
     "data": {
      "text/plain": [
       "<matplotlib.collections.PathCollection at 0x1790b4050>"
      ]
     },
     "execution_count": 115,
     "metadata": {},
     "output_type": "execute_result"
    },
    {
     "data": {
      "image/png": "[encoded data removed]",
      "text/plain": [
       "<Figure size 640x480 with 1 Axes>"
      ]
     },
     "metadata": {},
     "output_type": "display_data"
    }
   ],
   "source": [
    "plt.scatter(results_combined.predict(sm.add_constant(X)), Y)"
   ]
  },
  {
   "cell_type": "code",
   "execution_count": 161,
   "id": "9eda0585-4c71-4e98-9b40-bfe881ec8614",
   "metadata": {},
   "outputs": [
    {
     "data": {
      "text/html": [
       "<div>\n",
       "<style scoped>\n",
       "    .dataframe tbody tr th:only-of-type {\n",
       "        vertical-align: middle;\n",
       "    }\n",
       "\n",
       "    .dataframe tbody tr th {\n",
       "        vertical-align: top;\n",
       "    }\n",
       "\n",
       "    .dataframe thead th {\n",
       "        text-align: right;\n",
       "    }\n",
       "</style>\n",
       "<table border=\"1\" class=\"dataframe\">\n",
       "  <thead>\n",
       "    <tr style=\"text-align: right;\">\n",
       "      <th></th>\n",
       "      <th>1</th>\n",
       "      <th>2</th>\n",
       "    </tr>\n",
       "  </thead>\n",
       "  <tbody>\n",
       "    <tr>\n",
       "      <th>0</th>\n",
       "      <td>False</td>\n",
       "      <td>False</td>\n",
       "    </tr>\n",
       "    <tr>\n",
       "      <th>1</th>\n",
       "      <td>False</td>\n",
       "      <td>False</td>\n",
       "    </tr>\n",
       "    <tr>\n",
       "      <th>2</th>\n",
       "      <td>False</td>\n",
       "      <td>False</td>\n",
       "    </tr>\n",
       "    <tr>\n",
       "      <th>3</th>\n",
       "      <td>False</td>\n",
       "      <td>False</td>\n",
       "    </tr>\n",
       "    <tr>\n",
       "      <th>4</th>\n",
       "      <td>False</td>\n",
       "      <td>False</td>\n",
       "    </tr>\n",
       "    <tr>\n",
       "      <th>5</th>\n",
       "      <td>True</td>\n",
       "      <td>False</td>\n",
       "    </tr>\n",
       "    <tr>\n",
       "      <th>6</th>\n",
       "      <td>True</td>\n",
       "      <td>False</td>\n",
       "    </tr>\n",
       "    <tr>\n",
       "      <th>7</th>\n",
       "      <td>True</td>\n",
       "      <td>False</td>\n",
       "    </tr>\n",
       "    <tr>\n",
       "      <th>8</th>\n",
       "      <td>True</td>\n",
       "      <td>False</td>\n",
       "    </tr>\n",
       "    <tr>\n",
       "      <th>9</th>\n",
       "      <td>True</td>\n",
       "      <td>False</td>\n",
       "    </tr>\n",
       "    <tr>\n",
       "      <th>10</th>\n",
       "      <td>False</td>\n",
       "      <td>True</td>\n",
       "    </tr>\n",
       "    <tr>\n",
       "      <th>11</th>\n",
       "      <td>False</td>\n",
       "      <td>True</td>\n",
       "    </tr>\n",
       "    <tr>\n",
       "      <th>12</th>\n",
       "      <td>False</td>\n",
       "      <td>True</td>\n",
       "    </tr>\n",
       "    <tr>\n",
       "      <th>13</th>\n",
       "      <td>False</td>\n",
       "      <td>True</td>\n",
       "    </tr>\n",
       "    <tr>\n",
       "      <th>14</th>\n",
       "      <td>False</td>\n",
       "      <td>True</td>\n",
       "    </tr>\n",
       "  </tbody>\n",
       "</table>\n",
       "</div>"
      ],
      "text/plain": [
       "        1      2\n",
       "0   False  False\n",
       "1   False  False\n",
       "2   False  False\n",
       "3   False  False\n",
       "4   False  False\n",
       "5    True  False\n",
       "6    True  False\n",
       "7    True  False\n",
       "8    True  False\n",
       "9    True  False\n",
       "10  False   True\n",
       "11  False   True\n",
       "12  False   True\n",
       "13  False   True\n",
       "14  False   True"
      ]
     },
     "execution_count": 161,
     "metadata": {},
     "output_type": "execute_result"
    }
   ],
   "source": [
    "pd.get_dummies(np.repeat([0, 1, 2], 5), drop_first = True)"
   ]
  },
  {
   "cell_type": "code",
   "execution_count": 162,
   "id": "0179205e-2af8-49d2-ba53-ca483f23d403",
   "metadata": {},
   "outputs": [],
   "source": [
    "groups = np.repeat([0, 1, 2], num)\n",
    "X_fixed_effects = pd.get_dummies(groups, drop_first=True)\n",
    "X_design = np.hstack((X.reshape(-1, 1), X_fixed_effects))\n",
    "df_design = pd.DataFrame(X_design, columns = [\"X\", \"Group_1\", \"Group_2\"])\n",
    "results_fixed_effects = sm.OLS(Y, sm.add_constant(df_design)).fit()"
   ]
  },
  {
   "cell_type": "code",
   "execution_count": 163,
   "id": "5aa065f5-bb9a-47d9-95c1-a5ad2d316e78",
   "metadata": {},
   "outputs": [
    {
     "data": {
      "text/plain": [
       "const       4.980840\n",
       "X           3.016983\n",
       "Group_1     5.059248\n",
       "Group_2    10.048739\n",
       "dtype: float64"
      ]
     },
     "execution_count": 163,
     "metadata": {},
     "output_type": "execute_result"
    }
   ],
   "source": [
    "results_fixed_effects.params"
   ]
  },
  {
   "cell_type": "code",
   "execution_count": 164,
   "id": "70f99f49-2f71-4163-9269-287725d6604f",
   "metadata": {},
   "outputs": [
    {
     "data": {
      "text/plain": [
       "const      0.031482\n",
       "X          0.018295\n",
       "Group_1    0.044522\n",
       "Group_2    0.044522\n",
       "dtype: float64"
      ]
     },
     "execution_count": 164,
     "metadata": {},
     "output_type": "execute_result"
    }
   ],
   "source": [
    "results_fixed_effects.bse"
   ]
  },
  {
   "cell_type": "code",
   "execution_count": 165,
   "id": "a1b89c4d-b2cd-4473-87ba-6bce1d79ba30",
   "metadata": {},
   "outputs": [
    {
     "data": {
      "text/plain": [
       "0.9632015565953987"
      ]
     },
     "execution_count": 165,
     "metadata": {},
     "output_type": "execute_result"
    }
   ],
   "source": [
    "results_fixed_effects.rsquared"
   ]
  },
  {
   "cell_type": "code",
   "execution_count": 166,
   "id": "23947627-f515-479d-9fba-33a1c7bee4e3",
   "metadata": {},
   "outputs": [
    {
     "data": {
      "text/plain": [
       "0.9948788571000419"
      ]
     },
     "execution_count": 166,
     "metadata": {},
     "output_type": "execute_result"
    }
   ],
   "source": [
    "np.std(results_fixed_effects.resid)"
   ]
  },
  {
   "cell_type": "code",
   "execution_count": 167,
   "id": "1158ff89-52dd-4aca-8b0f-697cbc1871db",
   "metadata": {},
   "outputs": [
    {
     "data": {
      "text/plain": [
       "0.9948788571000419"
      ]
     },
     "execution_count": 167,
     "metadata": {},
     "output_type": "execute_result"
    }
   ],
   "source": [
    "root_mean_squared_error(Y, results_fixed_effects.predict(sm.add_constant(df_design)))"
   ]
  },
  {
   "cell_type": "code",
   "execution_count": 121,
   "id": "797460ed-d3a1-49f9-8533-4f8696e350ac",
   "metadata": {
    "scrolled": true
   },
   "outputs": [
    {
     "data": {
      "text/plain": [
       "<matplotlib.collections.PathCollection at 0x178fa0da0>"
      ]
     },
     "execution_count": 121,
     "metadata": {},
     "output_type": "execute_result"
    },
    {
     "data": {
      "image/png": "[encoded data removed]",
      "text/plain": [
       "<Figure size 640x480 with 1 Axes>"
      ]
     },
     "metadata": {},
     "output_type": "display_data"
    }
   ],
   "source": [
    "plt.scatter(results_fixed_effects.predict(sm.add_constant(df_design)), Y)"
   ]
  },
  {
   "cell_type": "code",
   "execution_count": 169,
   "id": "f00efb77-249a-4c7b-9535-9bb8aafbdea2",
   "metadata": {},
   "outputs": [],
   "source": [
    "X = np.hstack((X1 - X1.mean(), X2 - X2.mean(), X3 - X3.mean()))\n",
    "Y = np.hstack((Y1 - Y1.mean(), Y2 - Y2.mean(), Y3 - Y3.mean()))\n",
    "results_demeaned = sm.OLS(Y, X).fit()"
   ]
  },
  {
   "cell_type": "code",
   "execution_count": 170,
   "id": "0244879c-7bcb-47c9-bd43-69d7b144923e",
   "metadata": {},
   "outputs": [
    {
     "data": {
      "text/plain": [
       "0.9007594102829641"
      ]
     },
     "execution_count": 170,
     "metadata": {},
     "output_type": "execute_result"
    }
   ],
   "source": [
    "results_demeaned.rsquared"
   ]
  },
  {
   "cell_type": "code",
   "execution_count": 171,
   "id": "15cdd172-d282-450e-85c4-25cdfc897dec",
   "metadata": {},
   "outputs": [
    {
     "data": {
      "text/plain": [
       "0.9948788571000419"
      ]
     },
     "execution_count": 171,
     "metadata": {},
     "output_type": "execute_result"
    }
   ],
   "source": [
    "np.std(results_demeaned.resid)"
   ]
  },
  {
   "cell_type": "code",
   "execution_count": 172,
   "id": "254ed3b4-4780-4e06-91d3-c402cb5a52b0",
   "metadata": {},
   "outputs": [
    {
     "data": {
      "text/plain": [
       "0.9948788571000419"
      ]
     },
     "execution_count": 172,
     "metadata": {},
     "output_type": "execute_result"
    }
   ],
   "source": [
    "root_mean_squared_error(Y, results_demeaned.predict(X))"
   ]
  },
  {
   "cell_type": "markdown",
   "id": "caac120c-65c2-443d-8b11-84967361b820",
   "metadata": {},
   "source": [
    "# Simulation"
   ]
  },
  {
   "cell_type": "code",
   "execution_count": 173,
   "id": "bc6e28b3-b230-4c9d-9840-ca4307fa1b50",
   "metadata": {},
   "outputs": [
    {
     "data": {
      "text/plain": [
       "0.018610001927397465"
      ]
     },
     "execution_count": 173,
     "metadata": {},
     "output_type": "execute_result"
    }
   ],
   "source": [
    "# Suppose we want to know what happens if we do this simulation many times\n",
    "num_iter = 1000\n",
    "beta_1_list = list()\n",
    "se_list = list()\n",
    "for n in range(num_iter):\n",
    "    num = 1000\n",
    "    X1 = scipy.stats.norm.rvs(0, 1, (num,))\n",
    "    X2 = scipy.stats.norm.rvs(0, 1, (num,))\n",
    "    X3 = scipy.stats.norm.rvs(0, 1, (num,))\n",
    "    Y1 = 3 * X1 + 5 + scipy.stats.norm.rvs(0, 1, (num,))\n",
    "    Y2 = 3 * X2 + 10 + scipy.stats.norm.rvs(0, 1, (num,))\n",
    "    Y3 = 3 * X3 + 15 + scipy.stats.norm.rvs(0, 1, (num,))\n",
    "    X = np.hstack((X1 - X1.mean(), X2 - X2.mean(), X3 - X3.mean())) # demean the data\n",
    "    Y = np.hstack((Y1 - Y1.mean(), Y2 - Y2.mean(), Y3 - Y3.mean()))\n",
    "    results_demeaned = sm.OLS(Y, X).fit()\n",
    "    beta_1_list.append(results_demeaned.params[0])\n",
    "    se_list.append(results_demeaned.bse[0])\n",
    "\n",
    "np.std(beta_1_list)"
   ]
  },
  {
   "cell_type": "code",
   "execution_count": 175,
   "id": "26ddcd07-655a-4069-84d9-246721bcb2dc",
   "metadata": {},
   "outputs": [
    {
     "data": {
      "text/plain": [
       "(0.018610001927397465, 2.9999760024840634)"
      ]
     },
     "execution_count": 175,
     "metadata": {},
     "output_type": "execute_result"
    }
   ],
   "source": [
    "np.std(beta_1_list), np.mean(beta_1_list)"
   ]
  },
  {
   "cell_type": "code",
   "execution_count": 176,
   "id": "ebc44da0-b0af-419d-8c98-c881ec9944d6",
   "metadata": {},
   "outputs": [
    {
     "data": {
      "text/plain": [
       "(0.00032683201635459535, 0.018252704528099024)"
      ]
     },
     "execution_count": 176,
     "metadata": {},
     "output_type": "execute_result"
    }
   ],
   "source": [
    "np.std(se_list), np.mean(se_list)"
   ]
  },
  {
   "cell_type": "code",
   "execution_count": 137,
   "id": "b20fcd23-6475-49dc-bc13-94cd3efddaf2",
   "metadata": {},
   "outputs": [
    {
     "data": {
      "text/plain": [
       "3.0011668893443586"
      ]
     },
     "execution_count": 137,
     "metadata": {},
     "output_type": "execute_result"
    }
   ],
   "source": [
    "np.mean(beta_1_list)"
   ]
  },
  {
   "cell_type": "code",
   "execution_count": 177,
   "id": "1b1b9824-bff9-4717-9f98-e3e0dcb70cb3",
   "metadata": {},
   "outputs": [
    {
     "data": {
      "text/plain": [
       "(array([  2.,   5.,  10.,  25.,  35.,  64., 101., 102., 128., 147., 122.,\n",
       "         87.,  81.,  40.,  26.,  12.,   5.,   5.,   2.,   1.]),\n",
       " array([2.94231976, 2.94860986, 2.95489996, 2.96119006, 2.96748016,\n",
       "        2.97377026, 2.98006036, 2.98635046, 2.99264056, 2.99893066,\n",
       "        3.00522076, 3.01151086, 3.01780096, 3.02409106, 3.03038116,\n",
       "        3.03667126, 3.04296136, 3.04925146, 3.05554156, 3.06183166,\n",
       "        3.06812176]),\n",
       " <BarContainer object of 20 artists>)"
      ]
     },
     "execution_count": 177,
     "metadata": {},
     "output_type": "execute_result"
    },
    {
     "data": {
      "image/png": "[encoded data removed]",
      "text/plain": [
       "<Figure size 640x480 with 1 Axes>"
      ]
     },
     "metadata": {},
     "output_type": "display_data"
    }
   ],
   "source": [
    "plt.hist(beta_1_list, bins = 20)"
   ]
  },
  {
   "cell_type": "code",
   "execution_count": 179,
   "id": "8314227f-b1f1-4021-ab74-cf6d848e9fe8",
   "metadata": {},
   "outputs": [
    {
     "data": {
      "text/plain": [
       "(array([  5.,   8.,  11.,  17.,  29.,  37.,  45.,  93.,  97.,  88.,  98.,\n",
       "        125.,  98.,  72.,  69.,  48.,  20.,  22.,   8.,  10.]),\n",
       " array([0.01729983, 0.01739014, 0.01748046, 0.01757078, 0.0176611 ,\n",
       "        0.01775142, 0.01784174, 0.01793205, 0.01802237, 0.01811269,\n",
       "        0.01820301, 0.01829333, 0.01838365, 0.01847396, 0.01856428,\n",
       "        0.0186546 , 0.01874492, 0.01883524, 0.01892556, 0.01901587,\n",
       "        0.01910619]),\n",
       " <BarContainer object of 20 artists>)"
      ]
     },
     "execution_count": 179,
     "metadata": {},
     "output_type": "execute_result"
    },
    {
     "data": {
      "image/png": "[encoded data removed]",
      "text/plain": [
       "<Figure size 640x480 with 1 Axes>"
      ]
     },
     "metadata": {},
     "output_type": "display_data"
    }
   ],
   "source": [
    "plt.hist(se_list, bins = 20)"
   ]
  },
  {
   "cell_type": "code",
   "execution_count": null,
   "id": "08ec0ab3-1df8-42c5-a5dc-9cf54d24b1ab",
   "metadata": {},
   "outputs": [],
   "source": []
  }
 ],
 "metadata": {
  "kernelspec": {
   "display_name": "Python 3 (ipykernel)",
   "language": "python",
   "name": "python3"
  },
  "language_info": {
   "codemirror_mode": {
    "name": "ipython",
    "version": 3
   },
   "file_extension": ".py",
   "mimetype": "text/x-python",
   "name": "python",
   "nbconvert_exporter": "python",
   "pygments_lexer": "ipython3",
   "version": "3.12.0"
  }
 },
 "nbformat": 4,
 "nbformat_minor": 5
}
