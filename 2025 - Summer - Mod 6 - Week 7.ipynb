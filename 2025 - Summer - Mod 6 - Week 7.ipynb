{
 "cells": [
  {
   "cell_type": "code",
   "execution_count": 2,
   "id": "1d0f02ed-2273-4c5e-9dde-89aa42da7421",
   "metadata": {},
   "outputs": [],
   "source": [
    "import numpy as np\n",
    "import pandas as pd\n",
    "import matplotlib.pyplot as plt\n",
    "import statsmodels.api as sm\n",
    "from sklearn.neighbors import NearestNeighbors"
   ]
  },
  {
   "cell_type": "code",
   "execution_count": null,
   "id": "5ef2fd6c-2738-48cb-87b9-08b470c93771",
   "metadata": {},
   "outputs": [],
   "source": []
  },
  {
   "cell_type": "markdown",
   "id": "535511fc-dd7c-4eee-bf13-969243a35054",
   "metadata": {},
   "source": [
    "# Finding counterfactuals"
   ]
  },
  {
   "cell_type": "code",
   "execution_count": 90,
   "id": "3139e3bc-fc6c-41d5-b2d6-e22971f292bb",
   "metadata": {},
   "outputs": [],
   "source": [
    "num = 100000\n",
    "Z = np.random.normal(0, 1, num)\n",
    "Z_prob = 1 / (1 + np.exp(Z))\n",
    "X = np.random.binomial(1, Z_prob)\n",
    "Y = 2 * X + 3 * X * Z + Z + np.random.normal(0, 1, num)\n",
    "df = pd.DataFrame({\"X\": X, \"Z\": Z, \"Y\": Y, \"X_Z\": X * Z})"
   ]
  },
  {
   "cell_type": "code",
   "execution_count": 91,
   "id": "7b750602-2f6a-4828-97cc-a5fd2e293390",
   "metadata": {},
   "outputs": [
    {
     "data": {
      "text/plain": [
       "const    0.008310\n",
       "X        1.994919\n",
       "Z        1.005752\n",
       "X_Z      2.997433\n",
       "dtype: float64"
      ]
     },
     "execution_count": 91,
     "metadata": {},
     "output_type": "execute_result"
    }
   ],
   "source": [
    "results = sm.OLS(Y, sm.add_constant(df.drop(columns=[\"Y\"]))).fit()\n",
    "results.params"
   ]
  },
  {
   "cell_type": "code",
   "execution_count": 92,
   "id": "65b66cea-08be-467f-80d6-19b117d6d07d",
   "metadata": {},
   "outputs": [
    {
     "data": {
      "text/plain": [
       "0.42062654966051427"
      ]
     },
     "execution_count": 92,
     "metadata": {},
     "output_type": "execute_result"
    }
   ],
   "source": [
    "treated = df[df.X == 1]\n",
    "untreated = df[df.X == 0]\n",
    "untreated.Y.mean()"
   ]
  },
  {
   "cell_type": "code",
   "execution_count": 93,
   "id": "0fc8d006-2a46-4159-babf-6cf219c5f17f",
   "metadata": {},
   "outputs": [
    {
     "data": {
      "text/plain": [
       "0.7353446111946642"
      ]
     },
     "execution_count": 93,
     "metadata": {},
     "output_type": "execute_result"
    }
   ],
   "source": [
    "# ATT\n",
    "treated_cf_Y = results.predict(pd.DataFrame({\"const\": 1, \"X\": 0, \"Z\": treated.Z, \"X_Z\": 0}))\n",
    "treated.Y.mean() - treated_cf_Y.mean()"
   ]
  },
  {
   "cell_type": "code",
   "execution_count": 96,
   "id": "627b7c69-72c8-435d-9332-74ba1bee3617",
   "metadata": {},
   "outputs": [
    {
     "data": {
      "text/plain": [
       "0.7393470059471832"
      ]
     },
     "execution_count": 96,
     "metadata": {},
     "output_type": "execute_result"
    }
   ],
   "source": [
    "2 + 3 * treated.Z.mean()"
   ]
  },
  {
   "cell_type": "code",
   "execution_count": 94,
   "id": "f9f162cf-eb21-4f4f-bb76-8a96f136f588",
   "metadata": {},
   "outputs": [
    {
     "data": {
      "text/plain": [
       "3.223741673634595"
      ]
     },
     "execution_count": 94,
     "metadata": {},
     "output_type": "execute_result"
    }
   ],
   "source": [
    "#ATUT\n",
    "untreated_cf_Y = results.predict(pd.DataFrame({\"const\": 1, \"X\": 1, \"Z\": untreated.Z, \"X_Z\": untreated.Z}))\n",
    "untreated_cf_Y.mean() - untreated.Y.mean()"
   ]
  },
  {
   "cell_type": "code",
   "execution_count": 97,
   "id": "cb14a1ae-25a1-4e95-87f2-acd8a99441e5",
   "metadata": {},
   "outputs": [
    {
     "data": {
      "text/plain": [
       "3.2298750446064006"
      ]
     },
     "execution_count": 97,
     "metadata": {},
     "output_type": "execute_result"
    }
   ],
   "source": [
    "2 + 3 * untreated.Z.mean()"
   ]
  },
  {
   "cell_type": "code",
   "execution_count": 95,
   "id": "62a3484e-a9fc-4671-9cac-52f941877039",
   "metadata": {},
   "outputs": [
    {
     "data": {
      "text/plain": [
       "1.9844701685982609"
      ]
     },
     "execution_count": 95,
     "metadata": {},
     "output_type": "execute_result"
    }
   ],
   "source": [
    "#ATE\n",
    "((treated.Y.mean() - treated_cf_Y.mean()) * treated.shape[0] + (untreated_cf_Y.mean() - untreated.Y.mean()) * untreated.shape[0]) \\\n",
    "/ df.shape[0]"
   ]
  },
  {
   "cell_type": "code",
   "execution_count": 98,
   "id": "bfbb9852-60ce-4845-95f1-8b25c4a2edfd",
   "metadata": {},
   "outputs": [
    {
     "data": {
      "text/plain": [
       "1.9895422707933372"
      ]
     },
     "execution_count": 98,
     "metadata": {},
     "output_type": "execute_result"
    }
   ],
   "source": [
    "2 + 3 * df.Z.mean()"
   ]
  },
  {
   "cell_type": "code",
   "execution_count": 55,
   "id": "9fef4d4d-bdaa-4a86-8843-23ed1264c615",
   "metadata": {},
   "outputs": [],
   "source": [
    "num = 100000\n",
    "Z_mean = 0\n",
    "Z = np.random.normal(Z_mean, 1, num)\n",
    "Z_prob = 1 / (1 + np.exp(Z))\n",
    "X = np.random.binomial(1, Z_prob)\n",
    "Y = 2 * X + np.random.normal(0, 1, num)\n",
    "df = pd.DataFrame({\"X\": X, \"Y\": Y, \"Z\": Z})"
   ]
  },
  {
   "cell_type": "markdown",
   "id": "0498f74d-b286-45f4-87d9-9c9c83422bb2",
   "metadata": {},
   "source": [
    "### Linear regression for prediction: without X * Z"
   ]
  },
  {
   "cell_type": "code",
   "execution_count": 56,
   "id": "e3290de2-0162-4f9e-aab1-05270ed62339",
   "metadata": {},
   "outputs": [
    {
     "data": {
      "text/plain": [
       "const    0.005799\n",
       "X        1.991686\n",
       "Z       -0.000920\n",
       "dtype: float64"
      ]
     },
     "execution_count": 56,
     "metadata": {},
     "output_type": "execute_result"
    }
   ],
   "source": [
    "model = sm.OLS(Y, sm.add_constant(df[[\"X\", \"Z\"]]))\n",
    "results = model.fit()\n",
    "results.params"
   ]
  },
  {
   "cell_type": "code",
   "execution_count": 57,
   "id": "3b2159cf-894d-4057-8922-68db61190bfe",
   "metadata": {},
   "outputs": [
    {
     "name": "stdout",
     "output_type": "stream",
     "text": [
      "ATT effect: 1.9916860517242791\n",
      "ATUT effect: 1.9916860517241906\n",
      "ATE effect: 1.9916860517242347\n"
     ]
    }
   ],
   "source": [
    "treated = df[df.X == 1]\n",
    "untreated = df[df.X == 0]\n",
    "\n",
    "treated_cf = sm.add_constant(pd.DataFrame({\"X\": 0, \"Z\": treated[\"Z\"]}), has_constant = \"add\")\n",
    "treated_cf_prediction = results.predict(treated_cf)\n",
    "untreated_cf = sm.add_constant(pd.DataFrame({\"X\": 1, \"Z\": untreated[\"Z\"]}), has_constant = \"add\")\n",
    "untreated_cf_prediction = results.predict(untreated_cf)\n",
    "\n",
    "print(\"ATT effect:\", treated.Y.mean() - treated_cf_prediction.mean())\n",
    "print(\"ATUT effect:\", untreated_cf_prediction.mean() - untreated.Y.mean())\n",
    "print(\"ATE effect:\", ((treated.Y.mean() - treated_cf_prediction.mean()) * treated.shape[0] + (untreated_cf_prediction.mean() - untreated.Y.mean()) * untreated.shape[0]) / (untreated.shape[0] + treated.shape[0]))"
   ]
  },
  {
   "cell_type": "code",
   "execution_count": 58,
   "id": "fce8e56c-cb69-4ce1-9905-014871d2746f",
   "metadata": {},
   "outputs": [],
   "source": [
    "num = 100000\n",
    "Z_mean = 0.5\n",
    "Z = np.random.normal(Z_mean, 1, num)\n",
    "Z_prob = 1 / (1 + np.exp(Z))\n",
    "X = np.random.binomial(1, Z_prob)\n",
    "Y = 2 * X + 3 * X * Z + np.random.normal(0, 1, num)\n",
    "df = pd.DataFrame({\"X\": X, \"Y\": Y, \"Z\": Z, \"X_Z\": X * Z})"
   ]
  },
  {
   "cell_type": "markdown",
   "id": "b07c39cd-148e-4fb4-974a-886492365a6c",
   "metadata": {},
   "source": [
    "### Linear regression for prediction: with X * Z"
   ]
  },
  {
   "cell_type": "code",
   "execution_count": 59,
   "id": "4a819db6-76f4-44e8-9edc-3d8947e6db46",
   "metadata": {},
   "outputs": [
    {
     "data": {
      "text/plain": [
       "const    0.005096\n",
       "X        1.992708\n",
       "Z       -0.000339\n",
       "X_Z      2.992404\n",
       "dtype: float64"
      ]
     },
     "execution_count": 59,
     "metadata": {},
     "output_type": "execute_result"
    }
   ],
   "source": [
    "model = sm.OLS(Y, sm.add_constant(df[[\"X\", \"Z\", \"X_Z\"]]))\n",
    "results = model.fit()\n",
    "results.params"
   ]
  },
  {
   "cell_type": "code",
   "execution_count": 60,
   "id": "272c312a-6deb-4034-9d9e-ae2d163ab986",
   "metadata": {},
   "outputs": [
    {
     "name": "stdout",
     "output_type": "stream",
     "text": [
      "treated Z mean: -0.004156587346241618 2 + 3 * Z =  1.9875302379612751\n",
      "ATT effect: 1.9802695641301544\n",
      "untreated Z mean: 0.8297234233615438 2 + 3 * Z =  4.489170270084632\n",
      "ATUT effect: 4.475575858346705\n",
      "overall Z mean: 0.4985479771089467 2 + 3 * Z =  3.49564393132684\n",
      "ATE effect: 3.4845649635986016\n"
     ]
    }
   ],
   "source": [
    "treated = df[df.X == 1]\n",
    "untreated = df[df.X == 0]\n",
    "\n",
    "treated_cf = sm.add_constant(pd.DataFrame({\"X\": 0, \"Z\": treated[\"Z\"], \"X_Z\": 0}), has_constant = \"add\")\n",
    "treated_cf_prediction = results.predict(treated_cf)\n",
    "untreated_cf = sm.add_constant(pd.DataFrame({\"X\": 1, \"Z\": untreated[\"Z\"], \"X_Z\": untreated[\"Z\"]}), has_constant = \"add\")\n",
    "untreated_cf_prediction = results.predict(untreated_cf)\n",
    "\n",
    "print(\"treated Z mean:\", treated.Z.mean(), \"2 + 3 * Z = \", 2 + 3 * treated.Z.mean())\n",
    "print(\"ATT effect:\", treated.Y.mean() - treated_cf_prediction.mean())\n",
    "print(\"untreated Z mean:\", untreated.Z.mean(), \"2 + 3 * Z = \", 2 + 3 * untreated.Z.mean())\n",
    "print(\"ATUT effect:\", untreated_cf_prediction.mean() - untreated.Y.mean())\n",
    "print(\"overall Z mean:\", df.Z.mean(), \"2 + 3 * Z = \", 2 + 3 * df.Z.mean())\n",
    "print(\"ATE effect:\", ((treated.Y.mean() - treated_cf_prediction.mean()) * treated.shape[0] + (untreated_cf_prediction.mean() - untreated.Y.mean()) * untreated.shape[0]) / (untreated.shape[0] + treated.shape[0]))"
   ]
  },
  {
   "cell_type": "markdown",
   "id": "784605ea-0ac6-48da-922d-6db22a759757",
   "metadata": {},
   "source": [
    "### If Z_mean is changed, this unweighted ATE effect will deviate from the correct ATE effect"
   ]
  },
  {
   "cell_type": "code",
   "execution_count": 32,
   "id": "cc854f23-5c2f-4948-a5bd-b5e436c192aa",
   "metadata": {},
   "outputs": [
    {
     "name": "stdout",
     "output_type": "stream",
     "text": [
      "ATE effect (wrong): 3.2321026886315014\n"
     ]
    }
   ],
   "source": [
    "# Note that if you don't weight by the number of items in treated and untreated, you get the wrong result\n",
    "print(\"ATE effect (wrong):\", ((treated.Y.mean() - treated_cf_prediction.mean()) + (untreated_cf_prediction.mean() - untreated.Y.mean())) / 2)"
   ]
  },
  {
   "cell_type": "markdown",
   "id": "af76d473-c344-45ab-89ef-aa1bc508fe9e",
   "metadata": {},
   "source": [
    "### Optimal Treatment Effect (In the homework I called this Marginal, but it's not quite the right term)"
   ]
  },
  {
   "cell_type": "code",
   "execution_count": 57,
   "id": "bf18f039-839a-4ab7-8444-5671a3683eba",
   "metadata": {},
   "outputs": [
    {
     "name": "stdout",
     "output_type": "stream",
     "text": [
      "12.65053835434058\n",
      "X      0.000000\n",
      "Y     -1.766167\n",
      "Z      3.550861\n",
      "X_Z    0.000000\n",
      "Name: 89227, dtype: float64\n"
     ]
    }
   ],
   "source": [
    "arg = (untreated_cf_prediction.reset_index()[0] - untreated.reset_index().Y).argmax()\n",
    "print(untreated_cf_prediction.iloc[arg])\n",
    "print(untreated.iloc[arg])"
   ]
  },
  {
   "cell_type": "markdown",
   "id": "d9c3b178-d8d3-4939-8fd8-d16767af5243",
   "metadata": {},
   "source": [
    "### Matching for prediction"
   ]
  },
  {
   "cell_type": "code",
   "execution_count": 104,
   "id": "35844ea4-5acf-43c7-a533-b8b640819457",
   "metadata": {},
   "outputs": [
    {
     "data": {
      "text/plain": [
       "0.7246706959896432"
      ]
     },
     "execution_count": 104,
     "metadata": {},
     "output_type": "execute_result"
    }
   ],
   "source": [
    "neighbors = NearestNeighbors(n_neighbors = 1).fit(untreated[[\"Z\"]])\n",
    "distances, indices = neighbors.kneighbors(treated[[\"Z\"]])\n",
    "treated.Y.mean() - untreated.iloc[indices.ravel()].Y.mean()"
   ]
  },
  {
   "cell_type": "code",
   "execution_count": 105,
   "id": "f7bed001-2bba-488d-9fff-85c38543a2e2",
   "metadata": {},
   "outputs": [
    {
     "data": {
      "text/plain": [
       "3.2332933716555745"
      ]
     },
     "execution_count": 105,
     "metadata": {},
     "output_type": "execute_result"
    }
   ],
   "source": [
    "neighbors = NearestNeighbors(n_neighbors = 1).fit(treated[[\"Z\"]])\n",
    "distances, indices = neighbors.kneighbors(untreated[[\"Z\"]])\n",
    "treated.iloc[indices.ravel()].Y.mean() - untreated.Y.mean()"
   ]
  },
  {
   "cell_type": "code",
   "execution_count": 61,
   "id": "b883eeda-0720-4a10-a057-49bfe4e202aa",
   "metadata": {},
   "outputs": [
    {
     "data": {
      "text/plain": [
       "1.9655741712841313"
      ]
     },
     "execution_count": 61,
     "metadata": {},
     "output_type": "execute_result"
    }
   ],
   "source": [
    "neighbors = NearestNeighbors(n_neighbors = 1).fit(untreated[[\"Z\"]])\n",
    "distances, indices = neighbors.kneighbors(treated[[\"Z\"]])\n",
    "treated.Y.mean() - untreated.iloc[indices.ravel()].Y.mean()"
   ]
  },
  {
   "cell_type": "code",
   "execution_count": 62,
   "id": "c25c6847-96fe-4697-a501-df4190e4c6ff",
   "metadata": {},
   "outputs": [],
   "source": [
    "neighbors = NearestNeighbors(n_neighbors = 1).fit(untreated[[\"Z\"]])\n",
    "distances, indices = neighbors.kneighbors(treated[[\"Z\"]])\n",
    "treated_cf = untreated.iloc[indices.ravel()]"
   ]
  },
  {
   "cell_type": "code",
   "execution_count": 63,
   "id": "8596d1e0-34bb-4815-9124-3c3fea0ff2e3",
   "metadata": {},
   "outputs": [],
   "source": [
    "neighbors = NearestNeighbors(n_neighbors = 1).fit(treated[[\"Z\"]])\n",
    "distances, indices = neighbors.kneighbors(untreated[[\"Z\"]])\n",
    "untreated_cf = treated.iloc[indices.ravel()]"
   ]
  },
  {
   "cell_type": "code",
   "execution_count": 64,
   "id": "f06169ad-3eab-44bb-aba5-9b433cb5288b",
   "metadata": {},
   "outputs": [
    {
     "name": "stdout",
     "output_type": "stream",
     "text": [
      "ATT effect: 1.9655741712841313\n",
      "ATUT effect: 4.457401191013728\n",
      "ATE effect: 3.467772090128119\n"
     ]
    }
   ],
   "source": [
    "print(\"ATT effect:\", treated.Y.mean() - treated_cf.Y.mean())\n",
    "print(\"ATUT effect:\", untreated_cf.Y.mean() - untreated.Y.mean())\n",
    "print(\"ATE effect:\", ((treated.Y.mean() - treated_cf.Y.mean()) * treated.shape[0] + (untreated_cf.Y.mean() - untreated.Y.mean()) * untreated.shape[0]) / (untreated.shape[0] + treated.shape[0]))"
   ]
  },
  {
   "cell_type": "markdown",
   "id": "ee185f67-7078-4957-9467-aa47b6497a3b",
   "metadata": {},
   "source": [
    "### Optimal Treatment Effect"
   ]
  },
  {
   "cell_type": "code",
   "execution_count": 50,
   "id": "54c49366-73f3-45ce-b1de-d10101c6e4b7",
   "metadata": {},
   "outputs": [
    {
     "name": "stdout",
     "output_type": "stream",
     "text": [
      "X       1.000000\n",
      "Y      13.336748\n",
      "Z       3.568249\n",
      "X_Z     3.568249\n",
      "Name: 3451, dtype: float64\n",
      "X      0.000000\n",
      "Y     -1.766167\n",
      "Z      3.550861\n",
      "X_Z    0.000000\n",
      "Name: 89227, dtype: float64\n"
     ]
    }
   ],
   "source": [
    "arg = (untreated_cf.reset_index().Y - untreated.reset_index().Y).argmax()\n",
    "print(untreated_cf.iloc[arg])\n",
    "print(untreated.iloc[arg])"
   ]
  },
  {
   "cell_type": "code",
   "execution_count": null,
   "id": "8de5d62d-3d9a-4eb3-b932-2384a9527927",
   "metadata": {},
   "outputs": [],
   "source": []
  }
 ],
 "metadata": {
  "kernelspec": {
   "display_name": "Python 3 (ipykernel)",
   "language": "python",
   "name": "python3"
  },
  "language_info": {
   "codemirror_mode": {
    "name": "ipython",
    "version": 3
   },
   "file_extension": ".py",
   "mimetype": "text/x-python",
   "name": "python",
   "nbconvert_exporter": "python",
   "pygments_lexer": "ipython3",
   "version": "3.12.0"
  }
 },
 "nbformat": 4,
 "nbformat_minor": 5
}
