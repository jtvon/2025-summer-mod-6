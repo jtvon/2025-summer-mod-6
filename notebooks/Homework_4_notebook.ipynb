{
 "cells": [
  {
   "cell_type": "markdown",
   "id": "8833d857",
   "metadata": {},
   "source": [
    "## Week 4 Homework"
   ]
  },
  {
   "cell_type": "markdown",
   "id": "a7840eb5",
   "metadata": {},
   "source": [
    "Task:\n",
    "\n",
    "Given data about an instrumental variable, find the effect. X is the treatment, W the confounder, Y the outcome, and Z the instrument. Use homework_4.1.csv. "
   ]
  },
  {
   "cell_type": "code",
   "execution_count": 1,
   "id": "2ea20397",
   "metadata": {},
   "outputs": [],
   "source": [
    "import numpy as np\n",
    "import pandas as pd\n",
    "import math\n",
    "import os"
   ]
  },
  {
   "cell_type": "code",
   "execution_count": 2,
   "id": "3e145089",
   "metadata": {},
   "outputs": [
    {
     "data": {
      "text/html": [
       "<div>\n",
       "<style scoped>\n",
       "    .dataframe tbody tr th:only-of-type {\n",
       "        vertical-align: middle;\n",
       "    }\n",
       "\n",
       "    .dataframe tbody tr th {\n",
       "        vertical-align: top;\n",
       "    }\n",
       "\n",
       "    .dataframe thead th {\n",
       "        text-align: right;\n",
       "    }\n",
       "</style>\n",
       "<table border=\"1\" class=\"dataframe\">\n",
       "  <thead>\n",
       "    <tr style=\"text-align: right;\">\n",
       "      <th></th>\n",
       "      <th>Z</th>\n",
       "      <th>W</th>\n",
       "      <th>X</th>\n",
       "      <th>Y</th>\n",
       "    </tr>\n",
       "  </thead>\n",
       "  <tbody>\n",
       "    <tr>\n",
       "      <th>0</th>\n",
       "      <td>0</td>\n",
       "      <td>-0.155644</td>\n",
       "      <td>-0.496971</td>\n",
       "      <td>0.282484</td>\n",
       "    </tr>\n",
       "    <tr>\n",
       "      <th>1</th>\n",
       "      <td>1</td>\n",
       "      <td>0.529539</td>\n",
       "      <td>2.284240</td>\n",
       "      <td>4.740596</td>\n",
       "    </tr>\n",
       "    <tr>\n",
       "      <th>2</th>\n",
       "      <td>1</td>\n",
       "      <td>0.910514</td>\n",
       "      <td>0.872232</td>\n",
       "      <td>3.449569</td>\n",
       "    </tr>\n",
       "    <tr>\n",
       "      <th>3</th>\n",
       "      <td>1</td>\n",
       "      <td>-0.705476</td>\n",
       "      <td>2.157260</td>\n",
       "      <td>3.002531</td>\n",
       "    </tr>\n",
       "    <tr>\n",
       "      <th>4</th>\n",
       "      <td>0</td>\n",
       "      <td>-0.590874</td>\n",
       "      <td>-0.386730</td>\n",
       "      <td>-1.848796</td>\n",
       "    </tr>\n",
       "  </tbody>\n",
       "</table>\n",
       "</div>"
      ],
      "text/plain": [
       "   Z         W         X         Y\n",
       "0  0 -0.155644 -0.496971  0.282484\n",
       "1  1  0.529539  2.284240  4.740596\n",
       "2  1  0.910514  0.872232  3.449569\n",
       "3  1 -0.705476  2.157260  3.002531\n",
       "4  0 -0.590874 -0.386730 -1.848796"
      ]
     },
     "execution_count": 2,
     "metadata": {},
     "output_type": "execute_result"
    }
   ],
   "source": [
    "# read the data\n",
    "df_1 = pd.read_csv(r'C:\\Users\\JT von Seggern\\DS Masters Repos\\2025-summer-mod-6\\homework_4.1.csv')\n",
    "df_1 = df_1.drop(columns='Unnamed: 0')\n",
    "df_1.head()"
   ]
  },
  {
   "cell_type": "code",
   "execution_count": 3,
   "id": "cccf403d",
   "metadata": {},
   "outputs": [
    {
     "name": "stdout",
     "output_type": "stream",
     "text": [
      "<class 'pandas.core.frame.DataFrame'>\n",
      "RangeIndex: 5000 entries, 0 to 4999\n",
      "Data columns (total 4 columns):\n",
      " #   Column  Non-Null Count  Dtype  \n",
      "---  ------  --------------  -----  \n",
      " 0   Z       5000 non-null   int64  \n",
      " 1   W       5000 non-null   float64\n",
      " 2   X       5000 non-null   float64\n",
      " 3   Y       5000 non-null   float64\n",
      "dtypes: float64(3), int64(1)\n",
      "memory usage: 156.4 KB\n"
     ]
    }
   ],
   "source": [
    "df_1.info()"
   ]
  },
  {
   "cell_type": "code",
   "execution_count": 4,
   "id": "389a5c77",
   "metadata": {},
   "outputs": [
    {
     "data": {
      "text/html": [
       "<div>\n",
       "<style scoped>\n",
       "    .dataframe tbody tr th:only-of-type {\n",
       "        vertical-align: middle;\n",
       "    }\n",
       "\n",
       "    .dataframe tbody tr th {\n",
       "        vertical-align: top;\n",
       "    }\n",
       "\n",
       "    .dataframe thead th {\n",
       "        text-align: right;\n",
       "    }\n",
       "</style>\n",
       "<table border=\"1\" class=\"dataframe\">\n",
       "  <thead>\n",
       "    <tr style=\"text-align: right;\">\n",
       "      <th></th>\n",
       "      <th>Z</th>\n",
       "      <th>W</th>\n",
       "      <th>X</th>\n",
       "      <th>Y</th>\n",
       "    </tr>\n",
       "  </thead>\n",
       "  <tbody>\n",
       "    <tr>\n",
       "      <th>count</th>\n",
       "      <td>5000.000000</td>\n",
       "      <td>5000.000000</td>\n",
       "      <td>5000.000000</td>\n",
       "      <td>5000.000000</td>\n",
       "    </tr>\n",
       "    <tr>\n",
       "      <th>mean</th>\n",
       "      <td>0.501400</td>\n",
       "      <td>-0.009934</td>\n",
       "      <td>0.501343</td>\n",
       "      <td>0.740279</td>\n",
       "    </tr>\n",
       "    <tr>\n",
       "      <th>std</th>\n",
       "      <td>0.500048</td>\n",
       "      <td>0.997779</td>\n",
       "      <td>1.127010</td>\n",
       "      <td>2.225679</td>\n",
       "    </tr>\n",
       "    <tr>\n",
       "      <th>min</th>\n",
       "      <td>0.000000</td>\n",
       "      <td>-3.303406</td>\n",
       "      <td>-3.404084</td>\n",
       "      <td>-7.032995</td>\n",
       "    </tr>\n",
       "    <tr>\n",
       "      <th>25%</th>\n",
       "      <td>0.000000</td>\n",
       "      <td>-0.697551</td>\n",
       "      <td>-0.272628</td>\n",
       "      <td>-0.787994</td>\n",
       "    </tr>\n",
       "    <tr>\n",
       "      <th>50%</th>\n",
       "      <td>1.000000</td>\n",
       "      <td>-0.032234</td>\n",
       "      <td>0.516908</td>\n",
       "      <td>0.718374</td>\n",
       "    </tr>\n",
       "    <tr>\n",
       "      <th>75%</th>\n",
       "      <td>1.000000</td>\n",
       "      <td>0.647618</td>\n",
       "      <td>1.254057</td>\n",
       "      <td>2.240705</td>\n",
       "    </tr>\n",
       "    <tr>\n",
       "      <th>max</th>\n",
       "      <td>1.000000</td>\n",
       "      <td>4.783257</td>\n",
       "      <td>4.693866</td>\n",
       "      <td>10.081975</td>\n",
       "    </tr>\n",
       "  </tbody>\n",
       "</table>\n",
       "</div>"
      ],
      "text/plain": [
       "                 Z            W            X            Y\n",
       "count  5000.000000  5000.000000  5000.000000  5000.000000\n",
       "mean      0.501400    -0.009934     0.501343     0.740279\n",
       "std       0.500048     0.997779     1.127010     2.225679\n",
       "min       0.000000    -3.303406    -3.404084    -7.032995\n",
       "25%       0.000000    -0.697551    -0.272628    -0.787994\n",
       "50%       1.000000    -0.032234     0.516908     0.718374\n",
       "75%       1.000000     0.647618     1.254057     2.240705\n",
       "max       1.000000     4.783257     4.693866    10.081975"
      ]
     },
     "execution_count": 4,
     "metadata": {},
     "output_type": "execute_result"
    }
   ],
   "source": [
    "df_1.describe()"
   ]
  },
  {
   "cell_type": "code",
   "execution_count": 5,
   "id": "51906c3c",
   "metadata": {},
   "outputs": [
    {
     "name": "stdout",
     "output_type": "stream",
     "text": [
      "Difference in Differences (Y - X): 1.5619\n"
     ]
    }
   ],
   "source": [
    "# Differences in Differences between Y and X for each unique value of Z\n",
    "\n",
    "# difference in Y\n",
    "y_1 = df_1['Y'][df_1['Z'] == 1].values\n",
    "y_2 = df_1['Y'][df_1['Z'] == 0].values\n",
    "y_diff = np.mean(y_1) - np.mean(y_2)\n",
    "\n",
    "# difference in X\n",
    "x_1 = df_1['X'][df_1['Z'] == 1].values\n",
    "x_2 = df_1['X'][df_1['Z'] == 0].values\n",
    "x_diff = np.mean(x_1) - np.mean(x_2)\n",
    "\n",
    "# difference in Y and X\n",
    "diff = y_diff / x_diff\n",
    "\n",
    "print(f\"Difference in Differences (Y - X): {diff:.4f}\")"
   ]
  },
  {
   "cell_type": "code",
   "execution_count": null,
   "id": "811f9e20",
   "metadata": {},
   "outputs": [
    {
     "name": "stdout",
     "output_type": "stream",
     "text": [
      "Difference in Differences (Y - X) for narrow range of W: 1.5545\n"
     ]
    }
   ],
   "source": [
    "# Find the average of Y and X values for each unique value of Z for a narrow range of W\n",
    "\n",
    "# narrow range of W\n",
    "w_min = -.5\n",
    "w_max = .5\n",
    "\n",
    "# difference in y for narrow range of W\n",
    "y_1_narrow = df_1['Y'][(df_1['Z'] == 1) & (df_1['W'] >= w_min) & (df_1['W'] <= w_max)].values\n",
    "y_2_narrow = df_1['Y'][(df_1['Z'] == 0) & (df_1['W'] >= w_min) & (df_1['W'] <= w_max)].values\n",
    "y_diff_narrow = np.mean(y_1_narrow) - np.mean(y_2_narrow)\n",
    "\n",
    "# difference in x for narrow range of W\n",
    "x_1_narrow = df_1['X'][(df_1['Z'] == 1) & (df_1['W'] >= w_min) & (df_1['W'] <= w_max)].values\n",
    "x_2_narrow = df_1['X'][(df_1['Z'] == 0) & (df_1['W'] >= w_min) & (df_1['W'] <= w_max)].values\n",
    "x_diff_narrow = np.mean(x_1_narrow) - np.mean(x_2_narrow)\n",
    "\n",
    "# difference in Y and X for narrow range of W\n",
    "diff_narrow = y_diff_narrow / x_diff_narrow\n",
    "print(f\"Difference in Differences (Y - X) for narrow range of W: {diff_narrow:.4f}\")\n"
   ]
  },
  {
   "cell_type": "code",
   "execution_count": 8,
   "id": "7f2a7370",
   "metadata": {},
   "outputs": [],
   "source": [
    "# import the 4.2a and 4.2b data files\n",
    "df_2 = pd.read_csv(r'C:\\Users\\JT von Seggern\\DS Masters Repos\\2025-summer-mod-6\\homework_4.2.a.csv')\n",
    "df_3 = pd.read_csv(r'C:\\Users\\JT von Seggern\\DS Masters Repos\\2025-summer-mod-6\\homework_4.2.b.csv')\n",
    "\n",
    "df_2 = df_2.drop(columns='Unnamed: 0')\n",
    "df_3 = df_3.drop(columns='Unnamed: 0')"
   ]
  },
  {
   "cell_type": "code",
   "execution_count": 9,
   "id": "33780f0d",
   "metadata": {},
   "outputs": [
    {
     "data": {
      "text/html": [
       "<div>\n",
       "<style scoped>\n",
       "    .dataframe tbody tr th:only-of-type {\n",
       "        vertical-align: middle;\n",
       "    }\n",
       "\n",
       "    .dataframe tbody tr th {\n",
       "        vertical-align: top;\n",
       "    }\n",
       "\n",
       "    .dataframe thead th {\n",
       "        text-align: right;\n",
       "    }\n",
       "</style>\n",
       "<table border=\"1\" class=\"dataframe\">\n",
       "  <thead>\n",
       "    <tr style=\"text-align: right;\">\n",
       "      <th></th>\n",
       "      <th>X</th>\n",
       "      <th>Y</th>\n",
       "    </tr>\n",
       "  </thead>\n",
       "  <tbody>\n",
       "    <tr>\n",
       "      <th>0</th>\n",
       "      <td>85.070366</td>\n",
       "      <td>1</td>\n",
       "    </tr>\n",
       "    <tr>\n",
       "      <th>1</th>\n",
       "      <td>79.038051</td>\n",
       "      <td>1</td>\n",
       "    </tr>\n",
       "    <tr>\n",
       "      <th>2</th>\n",
       "      <td>86.987260</td>\n",
       "      <td>1</td>\n",
       "    </tr>\n",
       "    <tr>\n",
       "      <th>3</th>\n",
       "      <td>73.520540</td>\n",
       "      <td>1</td>\n",
       "    </tr>\n",
       "    <tr>\n",
       "      <th>4</th>\n",
       "      <td>95.446232</td>\n",
       "      <td>1</td>\n",
       "    </tr>\n",
       "  </tbody>\n",
       "</table>\n",
       "</div>"
      ],
      "text/plain": [
       "           X  Y\n",
       "0  85.070366  1\n",
       "1  79.038051  1\n",
       "2  86.987260  1\n",
       "3  73.520540  1\n",
       "4  95.446232  1"
      ]
     },
     "execution_count": 9,
     "metadata": {},
     "output_type": "execute_result"
    }
   ],
   "source": [
    "df_2.head()"
   ]
  },
  {
   "cell_type": "code",
   "execution_count": 10,
   "id": "1cf8f9b4",
   "metadata": {},
   "outputs": [
    {
     "data": {
      "text/html": [
       "<div>\n",
       "<style scoped>\n",
       "    .dataframe tbody tr th:only-of-type {\n",
       "        vertical-align: middle;\n",
       "    }\n",
       "\n",
       "    .dataframe tbody tr th {\n",
       "        vertical-align: top;\n",
       "    }\n",
       "\n",
       "    .dataframe thead th {\n",
       "        text-align: right;\n",
       "    }\n",
       "</style>\n",
       "<table border=\"1\" class=\"dataframe\">\n",
       "  <thead>\n",
       "    <tr style=\"text-align: right;\">\n",
       "      <th></th>\n",
       "      <th>X2</th>\n",
       "      <th>Y2</th>\n",
       "    </tr>\n",
       "  </thead>\n",
       "  <tbody>\n",
       "    <tr>\n",
       "      <th>0</th>\n",
       "      <td>73.863472</td>\n",
       "      <td>0</td>\n",
       "    </tr>\n",
       "    <tr>\n",
       "      <th>1</th>\n",
       "      <td>90.532024</td>\n",
       "      <td>1</td>\n",
       "    </tr>\n",
       "    <tr>\n",
       "      <th>2</th>\n",
       "      <td>72.563689</td>\n",
       "      <td>0</td>\n",
       "    </tr>\n",
       "    <tr>\n",
       "      <th>3</th>\n",
       "      <td>78.487566</td>\n",
       "      <td>0</td>\n",
       "    </tr>\n",
       "    <tr>\n",
       "      <th>4</th>\n",
       "      <td>80.404340</td>\n",
       "      <td>0</td>\n",
       "    </tr>\n",
       "  </tbody>\n",
       "</table>\n",
       "</div>"
      ],
      "text/plain": [
       "          X2  Y2\n",
       "0  73.863472   0\n",
       "1  90.532024   1\n",
       "2  72.563689   0\n",
       "3  78.487566   0\n",
       "4  80.404340   0"
      ]
     },
     "execution_count": 10,
     "metadata": {},
     "output_type": "execute_result"
    }
   ],
   "source": [
    "df_3.head()"
   ]
  },
  {
   "cell_type": "code",
   "execution_count": null,
   "id": "5ffb5dae",
   "metadata": {},
   "outputs": [],
   "source": []
  }
 ],
 "metadata": {
  "kernelspec": {
   "display_name": "Python 3",
   "language": "python",
   "name": "python3"
  },
  "language_info": {
   "codemirror_mode": {
    "name": "ipython",
    "version": 3
   },
   "file_extension": ".py",
   "mimetype": "text/x-python",
   "name": "python",
   "nbconvert_exporter": "python",
   "pygments_lexer": "ipython3",
   "version": "3.13.2"
  }
 },
 "nbformat": 4,
 "nbformat_minor": 5
}
