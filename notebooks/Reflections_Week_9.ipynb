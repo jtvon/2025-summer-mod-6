{
 "cells": [
  {
   "cell_type": "markdown",
   "id": "dabc87c9",
   "metadata": {},
   "source": [
    "## Reflections Week 9"
   ]
  },
  {
   "cell_type": "markdown",
   "id": "4bb71b0c",
   "metadata": {},
   "source": [
    "### Question 1"
   ]
  },
  {
   "cell_type": "markdown",
   "id": "3056a529",
   "metadata": {},
   "source": [
    "Write some code that will use a simulation to estimate the standard deviation of the coefficient when there is heteroskedasticity.  \n",
    "Compare these standard errors to those found via statsmodels OLS or a similar linear regression model."
   ]
  },
  {
   "cell_type": "code",
   "execution_count": null,
   "id": "7027b2ea",
   "metadata": {},
   "outputs": [],
   "source": [
    "import numpy as np\n",
    "import pandas as pd\n",
    "import statsmodels.api as sm\n",
    "import scipy.stats as stats\n",
    "import matplotlib.pyplot as plt\n",
    "\n",
    "np.random.seed(42)"
   ]
  },
  {
   "cell_type": "code",
   "execution_count": null,
   "id": "6b30f575",
   "metadata": {},
   "outputs": [],
   "source": [
    "# Create a simulated dataset with heteroskedasticity\n",
    "def simulate(n_simulations=1000):\n",
    "    np.random.seed(42)\n",
    "    coefficients = []\n",
    "    se_regular = []\n",
    "    se_robust = []\n",
    "\n",
    "    for i in range(n_simulations):\n",
    "\n",
    "        # Generate data for each simulation\n",
    "        W = np.random.normal(0, 1, 1000)\n",
    "        X = W + np.random.normal(0, 1, 1000)\n",
    "\n",
    "        # Introduce heteroskedasticity\n",
    "        error = np.random.normal(0, 3 * np.abs(X), 1000)\n",
    "        Y = 2 * X - W + np.random.normal(0, 10, 1000) + error\n",
    "\n",
    "        # Create DataFrame and run regression\n",
    "        df = pd.DataFrame({'Y': Y, 'X': X, 'W': W})\n",
    "        const_X = sm.add_constant(df[['X', 'W']])\n",
    "        model = sm.OLS(df['Y'], const_X).fit()\n",
    "\n",
    "        # Store the coefficents, and standard errors\n",
    "        coefficients.append(model.params['X'])\n",
    "        se_regular.append(model.bse['X'])\n",
    "\n",
    "        # Fit model with robust standard errors (heteroskedasticity-consistent)\n",
    "        model_robust = sm.OLS(df['Y'], const_X).fit(cov_type='HC3')\n",
    "        se_robust.append(model_robust.bse['X'])\n",
    "\n",
    "    # Calculate empirical standard deviation (true standard error)\n",
    "    empirical_std = np.std(coefficients)\n",
    "    \n",
    "    # Calculate average of the estimated standard errors\n",
    "    avg_se_regular = np.mean(se_regular)\n",
    "    avg_se_robust = np.mean(se_robust)\n",
    "    \n",
    "    return {\n",
    "        'coefficients': coefficients,\n",
    "        'empirical_std': empirical_std,\n",
    "        'avg_se_regular': avg_se_regular,\n",
    "        'avg_se_robust': avg_se_robust,\n",
    "        'se_regular_all': se_regular,\n",
    "        'se_robust_all': se_robust\n",
    "    }"
   ]
  },
  {
   "cell_type": "code",
   "execution_count": 8,
   "id": "340ad47d",
   "metadata": {},
   "outputs": [
    {
     "name": "stdout",
     "output_type": "stream",
     "text": [
      "=== Heteroskedasticity Analysis Results ===\n",
      "True coefficient value: 2.0\n",
      "Empirical mean of estimates: 1.9953\n",
      "Empirical standard deviation: 0.3717\n",
      "\n",
      "Standard Error Estimates:\n",
      "Regular OLS SE (average): 0.3439\n",
      "Robust SE (average): 0.3696\n",
      "\n",
      "Comparison to Empirical Standard Deviation:\n",
      "Regular OLS SE / Empirical SD: 0.9252\n",
      "Robust SE / Empirical SD: 0.9942\n",
      "\n",
      "Absolute difference from empirical SD:\n",
      "Regular OLS: 0.0278\n",
      "Robust SE: 0.0021\n",
      "Robust standard errors are closer to the true standard deviation\n"
     ]
    }
   ],
   "source": [
    "# # Run the simulation\n",
    "results = simulate(n_simulations=1000)\n",
    "\n",
    "print(\"=== Heteroskedasticity Analysis Results ===\")\n",
    "print(f\"True coefficient value: 2.0\")\n",
    "print(f\"Empirical mean of estimates: {np.mean(results['coefficients']):.4f}\")\n",
    "print(f\"Empirical standard deviation: {results['empirical_std']:.4f}\")\n",
    "print()\n",
    "print(\"Standard Error Estimates:\")\n",
    "print(f\"Regular OLS SE (average): {results['avg_se_regular']:.4f}\")\n",
    "print(f\"Robust SE (average): {results['avg_se_robust']:.4f}\")\n",
    "print()\n",
    "print(\"Comparison to Empirical Standard Deviation:\")\n",
    "print(f\"Regular OLS SE / Empirical SD: {results['avg_se_regular'] / results['empirical_std']:.4f}\")\n",
    "print(f\"Robust SE / Empirical SD: {results['avg_se_robust'] / results['empirical_std']:.4f}\")\n",
    "print()\n",
    "\n",
    "# Show which is closer to the true standard deviation\n",
    "regular_diff = abs(results['avg_se_regular'] - results['empirical_std'])\n",
    "robust_diff = abs(results['avg_se_robust'] - results['empirical_std'])\n",
    "\n",
    "print(f\"Absolute difference from empirical SD:\")\n",
    "print(f\"Regular OLS: {regular_diff:.4f}\")\n",
    "print(f\"Robust SE: {robust_diff:.4f}\")\n",
    "\n",
    "if robust_diff < regular_diff:\n",
    "    print(\"Robust standard errors are closer to the true standard deviation\")\n",
    "else:\n",
    "    print(\"Regular OLS standard errors are closer to the true standard deviation\")"
   ]
  },
  {
   "cell_type": "markdown",
   "id": "f93aeea5",
   "metadata": {},
   "source": [
    "### Question 2"
   ]
  },
  {
   "cell_type": "markdown",
   "id": "85cab6cb",
   "metadata": {},
   "source": [
    "Write some code that will use a simulation to estimate the standard deviation of the coefficient when errors are highly correlated / non-independent.\n",
    "Compare these standard errors to those found via statsmodels OlS or a similar linear regression model.\n",
    "\n",
    "Show that if the correlation between coefficients is high enough, then the estimated standard deviation of the coefficient, using bootstrap errors, \n",
    "might not match that found by a full simulation of the Data Generating Process.  (This can be fixed if you have a huge amount of data for the bootstrap simulation.)"
   ]
  },
  {
   "cell_type": "code",
   "execution_count": 6,
   "id": "9b23dcba",
   "metadata": {},
   "outputs": [],
   "source": [
    "# Simulate with highly correlated errors and compare bootstrap SE to simulation SE\n",
    "def simulate_high_corr(n_simulations=1000):\n",
    "    np.random.seed(42)\n",
    "    coefficients = []\n",
    "    se_regular = []\n",
    "    se_robust = []\n",
    "\n",
    "    for i in range(n_simulations):\n",
    "\n",
    "        # Generate highly correlated errors\n",
    "        W = np.random.normal(0, 1, 1000)\n",
    "        X = W + np.random.normal(0, 1, 1000)\n",
    "        error = np.random.normal(0, 1, 1000)\n",
    "\n",
    "        # Add strong autocorrelation to error\n",
    "        error = 0.9 * np.roll(error, 1) + error\n",
    "        Y = 2 * X - W + np.random.normal(0, 10, 1000) + error\n",
    "\n",
    "        # Create DataFrame and run regression\n",
    "        df = pd.DataFrame({'Y': Y, 'X': X, 'W': W})\n",
    "        const_X = sm.add_constant(df[['X', 'W']])\n",
    "        model = sm.OLS(df['Y'], const_X).fit()\n",
    "\n",
    "        # Store the coefficients and standard errors\n",
    "        coefficients.append(model.params['X'])\n",
    "        se_regular.append(model.bse['X'])\n",
    "        model_robust = sm.OLS(df['Y'], const_X).fit(cov_type='HC3')\n",
    "        se_robust.append(model_robust.bse['X'])\n",
    "\n",
    "    empirical_std = np.std(coefficients)\n",
    "    avg_se_regular = np.mean(se_regular)\n",
    "    avg_se_robust = np.mean(se_robust)\n",
    "    \n",
    "    return empirical_std, avg_se_regular, avg_se_robust, coefficients"
   ]
  },
  {
   "cell_type": "code",
   "execution_count": 7,
   "id": "4c29240e",
   "metadata": {},
   "outputs": [
    {
     "name": "stdout",
     "output_type": "stream",
     "text": [
      "=== Highly Correlated Errors Analysis ===\n",
      "Empirical std from simulation: 0.3181\n",
      "Average OLS SE: 0.3195\n",
      "Average robust SE: 0.3199\n",
      "Bootstrap SE from one sample: 0.3175\n",
      "\n",
      "Bootstrap SE / Empirical SD: 0.9979\n",
      "If this ratio is far from 1, bootstrap SE does not match simulation SE due to high correlation.\n"
     ]
    }
   ],
   "source": [
    "# Run the simulation for highly correlated errors\n",
    "empirical_std, avg_se_regular, avg_se_robust, coeffs = simulate_high_corr(n_simulations=1000)\n",
    "\n",
    "# Now, run a single simulation and estimate SE using bootstrap\n",
    "np.random.seed(42)\n",
    "W = np.random.normal(0, 1, 1000)\n",
    "X = W + np.random.normal(0, 1, 1000)\n",
    "error = np.random.normal(0, 1, 1000)\n",
    "error = 0.9 * np.roll(error, 1) + error\n",
    "Y = 2 * X - W + np.random.normal(0, 10, 1000) + error\n",
    "df = pd.DataFrame({'Y': Y, 'X': X, 'W': W})\n",
    "const_X = sm.add_constant(df[['X', 'W']])\n",
    "\n",
    "# Bootstrap standard error\n",
    "n_boot = 500\n",
    "boot_coefs = []\n",
    "for _ in range(n_boot):\n",
    "    idx = np.random.choice(len(df), len(df), replace=True)\n",
    "    sample = df.iloc[idx]\n",
    "    model = sm.OLS(sample['Y'], sm.add_constant(sample[['X', 'W']])).fit()\n",
    "    boot_coefs.append(model.params['X'])\n",
    "bootstrap_se = np.std(boot_coefs)\n",
    "\n",
    "print(\"=== Highly Correlated Errors Analysis ===\")\n",
    "print(f\"Empirical std from simulation: {empirical_std:.4f}\")\n",
    "print(f\"Average OLS SE: {avg_se_regular:.4f}\")\n",
    "print(f\"Average robust SE: {avg_se_robust:.4f}\")\n",
    "print(f\"Bootstrap SE from one sample: {bootstrap_se:.4f}\")\n",
    "print()\n",
    "print(\"Bootstrap SE / Empirical SD: {:.4f}\".format(bootstrap_se / empirical_std))\n",
    "print(\"If this ratio is far from 1, bootstrap SE does not match simulation SE due to high correlation.\")"
   ]
  }
 ],
 "metadata": {
  "kernelspec": {
   "display_name": "Python 3",
   "language": "python",
   "name": "python3"
  },
  "language_info": {
   "codemirror_mode": {
    "name": "ipython",
    "version": 3
   },
   "file_extension": ".py",
   "mimetype": "text/x-python",
   "name": "python",
   "nbconvert_exporter": "python",
   "pygments_lexer": "ipython3",
   "version": "3.13.2"
  }
 },
 "nbformat": 4,
 "nbformat_minor": 5
}
