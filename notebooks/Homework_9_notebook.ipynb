{
 "cells": [
  {
   "cell_type": "markdown",
   "id": "c8497d7a",
   "metadata": {},
   "source": [
    "## Week 9 notebook"
   ]
  },
  {
   "cell_type": "code",
   "execution_count": 9,
   "id": "2f2c2258",
   "metadata": {},
   "outputs": [],
   "source": [
    "import numpy as np\n",
    "import pandas as pd\n",
    "import statsmodels.api as sm\n",
    "import scipy.stats as stats"
   ]
  },
  {
   "cell_type": "code",
   "execution_count": 76,
   "id": "4339bda1",
   "metadata": {},
   "outputs": [
    {
     "name": "stdout",
     "output_type": "stream",
     "text": [
      "Number of simulations with |t-value| > 1.96: 519 out of 1000\n",
      "Probability of detecting nonzero effect: 0.519 or 51.9%\n",
      "Skewness of coefficent: -0.129\n"
     ]
    }
   ],
   "source": [
    "def simulate_power_analysis(A=1, B=1, C=10, D=1000, n_simulations=1000):\n",
    "    \"\"\"\n",
    "    Simulate multiple datasets and calculate the probability of detecting \n",
    "    a nonzero effect of X on Y (|t-value| > 1.96).\n",
    "    \"\"\"\n",
    "    t_values = []\n",
    "    coefficients = []\n",
    "    \n",
    "    for i in range(n_simulations):\n",
    "        # Generate data for each simulation\n",
    "        W = np.random.normal(0, 1, D)\n",
    "        X = W + np.random.normal(0, B, D)\n",
    "        Y = A * X - W + np.random.normal(0, C, D)\n",
    "        \n",
    "        # Create dataframe and run regression\n",
    "        df_sim = pd.DataFrame({'Y': Y, 'X': X, 'W': W})\n",
    "        X_w_const = sm.add_constant(df_sim[['X', 'W']])\n",
    "        model = sm.OLS(df_sim['Y'], X_w_const).fit()\n",
    "        \n",
    "        # Store the t-value for X\n",
    "        t_value_x = model.tvalues['X']\n",
    "        t_values.append(t_value_x)\n",
    "\n",
    "        # Store the coefficient for X\n",
    "        coefficient_X = model.params['X']\n",
    "        coefficients.append(coefficient_X)\n",
    "    \n",
    "    # Calculate probability\n",
    "    significant_ts = [abs(t) for t in t_values if abs(t) > 1.96]\n",
    "    probability = len(significant_ts) / n_simulations\n",
    "\n",
    "    # Calculate skewness of t-values\n",
    "    coef_skewness = stats.skew(coefficients)\n",
    "\n",
    "    return probability, significant_ts, coef_skewness\n",
    "\n",
    "# Run the power analysis\n",
    "probability, sig_ts, skewness = simulate_power_analysis(A=2, B=1, C=10, D=100, n_simulations=1000)\n",
    "\n",
    "print(f\"Number of simulations with |t-value| > 1.96: {len(sig_ts)} out of 1000\")\n",
    "print(f\"Probability of detecting nonzero effect: {probability:.3f} or {probability*100:.1f}%\")\n",
    "print(f\"Skewness of coefficent: {skewness:.3f}\")"
   ]
  },
  {
   "cell_type": "code",
   "execution_count": null,
   "id": "21ff8706",
   "metadata": {},
   "outputs": [],
   "source": []
  }
 ],
 "metadata": {
  "kernelspec": {
   "display_name": "Python 3",
   "language": "python",
   "name": "python3"
  },
  "language_info": {
   "codemirror_mode": {
    "name": "ipython",
    "version": 3
   },
   "file_extension": ".py",
   "mimetype": "text/x-python",
   "name": "python",
   "nbconvert_exporter": "python",
   "pygments_lexer": "ipython3",
   "version": "3.13.2"
  }
 },
 "nbformat": 4,
 "nbformat_minor": 5
}
