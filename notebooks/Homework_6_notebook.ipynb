{
 "cells": [
  {
   "cell_type": "markdown",
   "id": "c7b75169",
   "metadata": {},
   "source": [
    "## Week 6 notebook"
   ]
  },
  {
   "cell_type": "code",
   "execution_count": 1,
   "id": "e36cd093",
   "metadata": {},
   "outputs": [],
   "source": [
    "import pandas as pd\n",
    "import numpy as np"
   ]
  },
  {
   "cell_type": "code",
   "execution_count": 3,
   "id": "ba2b847b",
   "metadata": {},
   "outputs": [
    {
     "data": {
      "text/html": [
       "<div>\n",
       "<style scoped>\n",
       "    .dataframe tbody tr th:only-of-type {\n",
       "        vertical-align: middle;\n",
       "    }\n",
       "\n",
       "    .dataframe tbody tr th {\n",
       "        vertical-align: top;\n",
       "    }\n",
       "\n",
       "    .dataframe thead th {\n",
       "        text-align: right;\n",
       "    }\n",
       "</style>\n",
       "<table border=\"1\" class=\"dataframe\">\n",
       "  <thead>\n",
       "    <tr style=\"text-align: right;\">\n",
       "      <th></th>\n",
       "      <th>Z</th>\n",
       "      <th>X</th>\n",
       "      <th>Y</th>\n",
       "    </tr>\n",
       "  </thead>\n",
       "  <tbody>\n",
       "    <tr>\n",
       "      <th>0</th>\n",
       "      <td>0.548814</td>\n",
       "      <td>0</td>\n",
       "      <td>-0.823220</td>\n",
       "    </tr>\n",
       "    <tr>\n",
       "      <th>1</th>\n",
       "      <td>0.715189</td>\n",
       "      <td>1</td>\n",
       "      <td>0.842405</td>\n",
       "    </tr>\n",
       "    <tr>\n",
       "      <th>2</th>\n",
       "      <td>0.602763</td>\n",
       "      <td>1</td>\n",
       "      <td>0.898618</td>\n",
       "    </tr>\n",
       "    <tr>\n",
       "      <th>3</th>\n",
       "      <td>0.544883</td>\n",
       "      <td>0</td>\n",
       "      <td>-0.817325</td>\n",
       "    </tr>\n",
       "    <tr>\n",
       "      <th>4</th>\n",
       "      <td>0.423655</td>\n",
       "      <td>0</td>\n",
       "      <td>-0.635482</td>\n",
       "    </tr>\n",
       "  </tbody>\n",
       "</table>\n",
       "</div>"
      ],
      "text/plain": [
       "          Z  X         Y\n",
       "0  0.548814  0 -0.823220\n",
       "1  0.715189  1  0.842405\n",
       "2  0.602763  1  0.898618\n",
       "3  0.544883  0 -0.817325\n",
       "4  0.423655  0 -0.635482"
      ]
     },
     "execution_count": 3,
     "metadata": {},
     "output_type": "execute_result"
    }
   ],
   "source": [
    "df = pd.read_csv(r'/Users/Jvon/Masters/2025-summer-mod-6/homework_6.1.csv')\n",
    "df = df.drop(columns=['Unnamed: 0'])\n",
    "df.head()"
   ]
  },
  {
   "cell_type": "markdown",
   "id": "628efebd",
   "metadata": {},
   "source": [
    "### Matching and Treatment Effect Analysis\n",
    "\n",
    "- Match treated (X=1) to untreated (X=0) based on confounder (Z) using NearestNeighbors.\n",
    "- Compute the average treatment effect (ATE) by pairing each item with its nearest counterfactual.\n",
    "- Compute the average treatment effect on the treated (ATT).\n",
    "- Compute the average treatment effect on the untreated (ATU).\n",
    "- Compute the marginal treatment effect (maximum effect among untreated).\n",
    "\n",
    "2. Propose a solution that remedies this problem and write some code that implements your solution.  It's very important here that you clearly explain what your solution will do.\n",
    "Possible answer: maybe we could take the 90th percentile of the treatment effect and use it as a proxy for the Marginal Treatment Effect.\n",
    "(Either code this answer or choose a different one.)\n"
   ]
  },
  {
   "cell_type": "code",
   "execution_count": null,
   "id": "f3e837ca",
   "metadata": {},
   "outputs": [
    {
     "name": "stdout",
     "output_type": "stream",
     "text": [
      "ATE: 1.695\n",
      "ATT: 1.846\n",
      "ATU: 1.549\n",
      "Marginal Treatment Effect: 2.172\n",
      "90th Percentile of Marginal Treatment Effect: 1.928\n"
     ]
    }
   ],
   "source": [
    "from sklearn.neighbors import NearestNeighbors\n",
    "\n",
    "# Assume df has columns: X (treatment), Y (outcome), Z (confounder)\n",
    "# Separate treated and untreated\n",
    "T = df[df['X'] == 1].copy()\n",
    "U = df[df['X'] == 0].copy()\n",
    "\n",
    "# Fit NearestNeighbors on Z for each group\n",
    "t_nn = NearestNeighbors(n_neighbors=1).fit(U[['Z']])\n",
    "u_nn = NearestNeighbors(n_neighbors=1).fit(T[['Z']])\n",
    "\n",
    "# For each treated, find nearest untreated (counterfactual)\n",
    "dist_T, idx_T = t_nn.kneighbors(T[['Z']])\n",
    "T['cf_idx'] = idx_T.flatten()\n",
    "T['cf_Y'] = U.iloc[T['cf_idx']]['Y'].values\n",
    "T['effect'] = T['Y'] - T['cf_Y']\n",
    "\n",
    "# For each untreated, find nearest treated (counterfactual)\n",
    "dist_U, idx_U = u_nn.kneighbors(U[['Z']])\n",
    "U['cf_idx'] = idx_U.flatten()\n",
    "U['cf_Y'] = T.iloc[U['cf_idx']]['Y'].values\n",
    "U['effect'] = U['cf_Y'] - U['Y']\n",
    "\n",
    "# Average Treatment Effect (ATE): average of all effects (both directions)\n",
    "ate = pd.concat([T['effect'], U['effect']]).mean()\n",
    "\n",
    "# Average Treatment Effect on the Treated (ATT): average effect for treated\n",
    "att = T['effect'].mean()\n",
    "\n",
    "# Average Treatment Effect on the Untreated (ATU): average effect for untreated\n",
    "atu = U['effect'].mean()\n",
    "\n",
    "# Marginal Treatment Effect: maximum effect among untreated and the 90th percentile among untreated\n",
    "mte = U['effect'].max()\n",
    "mte_90th_percent = U['effect'].quantile(0.9)\n",
    "\n",
    "print(f\"ATE: {ate:.3f}\")\n",
    "print(f\"ATT: {att:.3f}\")\n",
    "print(f\"ATU: {atu:.3f}\")\n",
    "print(f\"Marginal Treatment Effect: {mte:.3f}\")\n",
    "print(f\"90th Percentile of Marginal Treatment Effect: {mte_90th_percent:.3f}\")"
   ]
  },
  {
   "cell_type": "markdown",
   "id": "ba1c862b",
   "metadata": {},
   "source": [
    "1. What is a potential problem with computing the Marginal Treatment Effect simply by comparing each untreated item to its counterfactual and taking the maximum difference?  (Hint: think of statistics here.  Consider that only the most extreme item ends up being used to estimate the MTE.  That's not necessarily a bad thing; the MTE is supposed to come from the untreated item that will produce the maximum effect.  But there is nevertheless a problem.)\n",
    "Possible answer: We are likely to find the item with the most extreme difference, which may be high simply due to randomness.\n",
    "(Please explain / justify this answer, or give a different one if you can think of one.)\n",
    "\n",
    "The problem is that by only considering the maximum difference, we may be ignoring other untreated items that could provide valuable information about the treatment effect. This could lead to an overestimation of the MTE if the maximum difference is an outlier."
   ]
  }
 ],
 "metadata": {
  "kernelspec": {
   "display_name": ".venv",
   "language": "python",
   "name": "python3"
  },
  "language_info": {
   "codemirror_mode": {
    "name": "ipython",
    "version": 3
   },
   "file_extension": ".py",
   "mimetype": "text/x-python",
   "name": "python",
   "nbconvert_exporter": "python",
   "pygments_lexer": "ipython3",
   "version": "3.13.0"
  }
 },
 "nbformat": 4,
 "nbformat_minor": 5
}
