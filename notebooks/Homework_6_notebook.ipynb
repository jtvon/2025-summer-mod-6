{
 "cells": [
  {
   "cell_type": "markdown",
   "id": "c7b75169",
   "metadata": {},
   "source": [
    "## Week 6 notebook"
   ]
  },
  {
   "cell_type": "code",
   "execution_count": 2,
   "id": "e36cd093",
   "metadata": {},
   "outputs": [],
   "source": [
    "import pandas as pd\n",
    "import numpy as np"
   ]
  },
  {
   "cell_type": "code",
   "execution_count": 6,
   "id": "ba2b847b",
   "metadata": {},
   "outputs": [
    {
     "data": {
      "text/html": [
       "<div>\n",
       "<style scoped>\n",
       "    .dataframe tbody tr th:only-of-type {\n",
       "        vertical-align: middle;\n",
       "    }\n",
       "\n",
       "    .dataframe tbody tr th {\n",
       "        vertical-align: top;\n",
       "    }\n",
       "\n",
       "    .dataframe thead th {\n",
       "        text-align: right;\n",
       "    }\n",
       "</style>\n",
       "<table border=\"1\" class=\"dataframe\">\n",
       "  <thead>\n",
       "    <tr style=\"text-align: right;\">\n",
       "      <th></th>\n",
       "      <th>Z</th>\n",
       "      <th>X</th>\n",
       "      <th>Y</th>\n",
       "    </tr>\n",
       "  </thead>\n",
       "  <tbody>\n",
       "    <tr>\n",
       "      <th>0</th>\n",
       "      <td>0.548814</td>\n",
       "      <td>0</td>\n",
       "      <td>-0.823220</td>\n",
       "    </tr>\n",
       "    <tr>\n",
       "      <th>1</th>\n",
       "      <td>0.715189</td>\n",
       "      <td>1</td>\n",
       "      <td>0.842405</td>\n",
       "    </tr>\n",
       "    <tr>\n",
       "      <th>2</th>\n",
       "      <td>0.602763</td>\n",
       "      <td>1</td>\n",
       "      <td>0.898618</td>\n",
       "    </tr>\n",
       "    <tr>\n",
       "      <th>3</th>\n",
       "      <td>0.544883</td>\n",
       "      <td>0</td>\n",
       "      <td>-0.817325</td>\n",
       "    </tr>\n",
       "    <tr>\n",
       "      <th>4</th>\n",
       "      <td>0.423655</td>\n",
       "      <td>0</td>\n",
       "      <td>-0.635482</td>\n",
       "    </tr>\n",
       "  </tbody>\n",
       "</table>\n",
       "</div>"
      ],
      "text/plain": [
       "          Z  X         Y\n",
       "0  0.548814  0 -0.823220\n",
       "1  0.715189  1  0.842405\n",
       "2  0.602763  1  0.898618\n",
       "3  0.544883  0 -0.817325\n",
       "4  0.423655  0 -0.635482"
      ]
     },
     "execution_count": 6,
     "metadata": {},
     "output_type": "execute_result"
    }
   ],
   "source": [
    "df = pd.read_csv(r'C:\\Users\\JT von Seggern\\DS Masters Repos\\2025-summer-mod-6\\homework_6.1.csv')\n",
    "df = df.drop(columns=['Unnamed: 0'])\n",
    "df.head()"
   ]
  },
  {
   "cell_type": "markdown",
   "id": "628efebd",
   "metadata": {},
   "source": [
    "### Matching and Treatment Effect Analysis\n",
    "\n",
    "- Match treated (X=1) to untreated (X=0) based on confounder (Z) using NearestNeighbors.\n",
    "- Compute the average treatment effect (ATE) by pairing each item with its nearest counterfactual.\n",
    "- Compute the average treatment effect on the treated (ATT).\n",
    "- Compute the average treatment effect on the untreated (ATU).\n",
    "- Compute the marginal treatment effect (maximum effect among untreated).\n"
   ]
  },
  {
   "cell_type": "code",
   "execution_count": 7,
   "id": "f3e837ca",
   "metadata": {},
   "outputs": [
    {
     "name": "stdout",
     "output_type": "stream",
     "text": [
      "ATE: 1.695\n",
      "ATT: 1.846\n",
      "ATU: 1.549\n",
      "Marginal Treatment Effect: 2.172\n"
     ]
    }
   ],
   "source": [
    "from sklearn.neighbors import NearestNeighbors\n",
    "\n",
    "# Assume df has columns: X (treatment), Y (outcome), Z (confounder)\n",
    "# Separate treated and untreated\n",
    "T = df[df['X'] == 1].copy()\n",
    "U = df[df['X'] == 0].copy()\n",
    "\n",
    "# Fit NearestNeighbors on Z for each group\n",
    "treated_nn = NearestNeighbors(n_neighbors=1).fit(U[['Z']])\n",
    "untreated_nn = NearestNeighbors(n_neighbors=1).fit(T[['Z']])\n",
    "\n",
    "# For each treated, find nearest untreated (counterfactual)\n",
    "dist_T, idx_T = treated_nn.kneighbors(T[['Z']])\n",
    "T['cf_idx'] = idx_T.flatten()\n",
    "T['cf_Y'] = U.iloc[T['cf_idx']]['Y'].values\n",
    "T['effect'] = T['Y'] - T['cf_Y']\n",
    "\n",
    "# For each untreated, find nearest treated (counterfactual)\n",
    "dist_U, idx_U = untreated_nn.kneighbors(U[['Z']])\n",
    "U['cf_idx'] = idx_U.flatten()\n",
    "U['cf_Y'] = T.iloc[U['cf_idx']]['Y'].values\n",
    "U['effect'] = U['cf_Y'] - U['Y']\n",
    "\n",
    "# Average Treatment Effect (ATE): average of all effects (both directions)\n",
    "ate = pd.concat([T['effect'], U['effect']]).mean()\n",
    "\n",
    "# Average Treatment Effect on the Treated (ATT): average effect for treated\n",
    "att = T['effect'].mean()\n",
    "\n",
    "# Average Treatment Effect on the Untreated (ATU): average effect for untreated\n",
    "atu = U['effect'].mean()\n",
    "\n",
    "# Marginal Treatment Effect: maximum effect among untreated\n",
    "mte = U['effect'].max()\n",
    "\n",
    "print(f\"ATE: {ate:.3f}\")\n",
    "print(f\"ATT: {att:.3f}\")\n",
    "print(f\"ATU: {atu:.3f}\")\n",
    "print(f\"Marginal Treatment Effect: {mte:.3f}\")"
   ]
  }
 ],
 "metadata": {
  "kernelspec": {
   "display_name": "Python 3",
   "language": "python",
   "name": "python3"
  },
  "language_info": {
   "codemirror_mode": {
    "name": "ipython",
    "version": 3
   },
   "file_extension": ".py",
   "mimetype": "text/x-python",
   "name": "python",
   "nbconvert_exporter": "python",
   "pygments_lexer": "ipython3",
   "version": "3.13.2"
  }
 },
 "nbformat": 4,
 "nbformat_minor": 5
}
