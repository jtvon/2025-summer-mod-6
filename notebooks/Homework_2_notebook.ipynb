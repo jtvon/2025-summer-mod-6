{
 "cells": [
  {
   "cell_type": "markdown",
   "id": "09bb6f8e",
   "metadata": {},
   "source": [
    "### Week 2 Homework"
   ]
  },
  {
   "cell_type": "markdown",
   "id": "f971dd4c",
   "metadata": {},
   "source": [
    "For questions 1 and 2: \n",
    "\n",
    "Do a regression to estimate the fixed effect of each group. We assume that there is one single linear coefficient for all the data, plus the fixed effect of each group. Use the file homework_2.1.csv.  The variables G1, G2, and G3 are the outcomes and the time is the treatment."
   ]
  },
  {
   "cell_type": "code",
   "execution_count": 14,
   "id": "48ace5f4",
   "metadata": {},
   "outputs": [],
   "source": [
    "import pandas as pd\n",
    "import numpy as np\n",
    "import os\n",
    "import sys"
   ]
  },
  {
   "cell_type": "code",
   "execution_count": 43,
   "id": "c6389fe9",
   "metadata": {},
   "outputs": [],
   "source": [
    "# read the homework 2.1 file\n",
    "df_1 = pd.read_csv(r'C:\\Users\\JT von Seggern\\DS Masters Repos\\2025-summer-mod-6\\homework_2.1.csv')\n",
    "df_1 = df_1.drop(columns=['Unnamed: 0'])"
   ]
  },
  {
   "cell_type": "code",
   "execution_count": 44,
   "id": "efaea28c",
   "metadata": {},
   "outputs": [
    {
     "data": {
      "text/html": [
       "<div>\n",
       "<style scoped>\n",
       "    .dataframe tbody tr th:only-of-type {\n",
       "        vertical-align: middle;\n",
       "    }\n",
       "\n",
       "    .dataframe tbody tr th {\n",
       "        vertical-align: top;\n",
       "    }\n",
       "\n",
       "    .dataframe thead th {\n",
       "        text-align: right;\n",
       "    }\n",
       "</style>\n",
       "<table border=\"1\" class=\"dataframe\">\n",
       "  <thead>\n",
       "    <tr style=\"text-align: right;\">\n",
       "      <th></th>\n",
       "      <th>time</th>\n",
       "      <th>G1</th>\n",
       "      <th>G2</th>\n",
       "      <th>G3</th>\n",
       "    </tr>\n",
       "  </thead>\n",
       "  <tbody>\n",
       "    <tr>\n",
       "      <th>0</th>\n",
       "      <td>0</td>\n",
       "      <td>0.882026</td>\n",
       "      <td>1.441575</td>\n",
       "      <td>0.065409</td>\n",
       "    </tr>\n",
       "    <tr>\n",
       "      <th>1</th>\n",
       "      <td>1</td>\n",
       "      <td>0.210079</td>\n",
       "      <td>-0.163880</td>\n",
       "      <td>0.140310</td>\n",
       "    </tr>\n",
       "    <tr>\n",
       "      <th>2</th>\n",
       "      <td>2</td>\n",
       "      <td>0.509369</td>\n",
       "      <td>-0.115242</td>\n",
       "      <td>0.819830</td>\n",
       "    </tr>\n",
       "    <tr>\n",
       "      <th>3</th>\n",
       "      <td>3</td>\n",
       "      <td>1.150447</td>\n",
       "      <td>1.014698</td>\n",
       "      <td>0.607632</td>\n",
       "    </tr>\n",
       "    <tr>\n",
       "      <th>4</th>\n",
       "      <td>4</td>\n",
       "      <td>0.973779</td>\n",
       "      <td>-0.046562</td>\n",
       "      <td>0.610066</td>\n",
       "    </tr>\n",
       "  </tbody>\n",
       "</table>\n",
       "</div>"
      ],
      "text/plain": [
       "   time        G1        G2        G3\n",
       "0     0  0.882026  1.441575  0.065409\n",
       "1     1  0.210079 -0.163880  0.140310\n",
       "2     2  0.509369 -0.115242  0.819830\n",
       "3     3  1.150447  1.014698  0.607632\n",
       "4     4  0.973779 -0.046562  0.610066"
      ]
     },
     "execution_count": 44,
     "metadata": {},
     "output_type": "execute_result"
    }
   ],
   "source": [
    "df_1.head()"
   ]
  },
  {
   "cell_type": "code",
   "execution_count": 45,
   "id": "456cc9a3",
   "metadata": {},
   "outputs": [
    {
     "name": "stdout",
     "output_type": "stream",
     "text": [
      "<class 'pandas.core.frame.DataFrame'>\n",
      "RangeIndex: 100 entries, 0 to 99\n",
      "Data columns (total 4 columns):\n",
      " #   Column  Non-Null Count  Dtype  \n",
      "---  ------  --------------  -----  \n",
      " 0   time    100 non-null    int64  \n",
      " 1   G1      100 non-null    float64\n",
      " 2   G2      100 non-null    float64\n",
      " 3   G3      100 non-null    float64\n",
      "dtypes: float64(3), int64(1)\n",
      "memory usage: 3.3 KB\n"
     ]
    }
   ],
   "source": [
    "df_1.info()"
   ]
  },
  {
   "cell_type": "code",
   "execution_count": 46,
   "id": "d5857d5a",
   "metadata": {},
   "outputs": [
    {
     "data": {
      "text/html": [
       "<div>\n",
       "<style scoped>\n",
       "    .dataframe tbody tr th:only-of-type {\n",
       "        vertical-align: middle;\n",
       "    }\n",
       "\n",
       "    .dataframe tbody tr th {\n",
       "        vertical-align: top;\n",
       "    }\n",
       "\n",
       "    .dataframe thead th {\n",
       "        text-align: right;\n",
       "    }\n",
       "</style>\n",
       "<table border=\"1\" class=\"dataframe\">\n",
       "  <thead>\n",
       "    <tr style=\"text-align: right;\">\n",
       "      <th></th>\n",
       "      <th>time</th>\n",
       "      <th>G1</th>\n",
       "      <th>G2</th>\n",
       "      <th>G3</th>\n",
       "    </tr>\n",
       "  </thead>\n",
       "  <tbody>\n",
       "    <tr>\n",
       "      <th>count</th>\n",
       "      <td>100.000000</td>\n",
       "      <td>100.000000</td>\n",
       "      <td>100.000000</td>\n",
       "      <td>100.000000</td>\n",
       "    </tr>\n",
       "    <tr>\n",
       "      <th>mean</th>\n",
       "      <td>49.500000</td>\n",
       "      <td>0.524904</td>\n",
       "      <td>1.036006</td>\n",
       "      <td>0.715384</td>\n",
       "    </tr>\n",
       "    <tr>\n",
       "      <th>std</th>\n",
       "      <td>29.011492</td>\n",
       "      <td>0.561614</td>\n",
       "      <td>0.552593</td>\n",
       "      <td>0.581227</td>\n",
       "    </tr>\n",
       "    <tr>\n",
       "      <th>min</th>\n",
       "      <td>0.000000</td>\n",
       "      <td>-1.076495</td>\n",
       "      <td>-0.163880</td>\n",
       "      <td>-0.508478</td>\n",
       "    </tr>\n",
       "    <tr>\n",
       "      <th>25%</th>\n",
       "      <td>24.750000</td>\n",
       "      <td>0.186046</td>\n",
       "      <td>0.621088</td>\n",
       "      <td>0.298386</td>\n",
       "    </tr>\n",
       "    <tr>\n",
       "      <th>50%</th>\n",
       "      <td>49.500000</td>\n",
       "      <td>0.464842</td>\n",
       "      <td>1.006778</td>\n",
       "      <td>0.643041</td>\n",
       "    </tr>\n",
       "    <tr>\n",
       "      <th>75%</th>\n",
       "      <td>74.250000</td>\n",
       "      <td>0.947191</td>\n",
       "      <td>1.427074</td>\n",
       "      <td>1.125461</td>\n",
       "    </tr>\n",
       "    <tr>\n",
       "      <th>max</th>\n",
       "      <td>99.000000</td>\n",
       "      <td>1.862935</td>\n",
       "      <td>2.561618</td>\n",
       "      <td>2.321958</td>\n",
       "    </tr>\n",
       "  </tbody>\n",
       "</table>\n",
       "</div>"
      ],
      "text/plain": [
       "             time          G1          G2          G3\n",
       "count  100.000000  100.000000  100.000000  100.000000\n",
       "mean    49.500000    0.524904    1.036006    0.715384\n",
       "std     29.011492    0.561614    0.552593    0.581227\n",
       "min      0.000000   -1.076495   -0.163880   -0.508478\n",
       "25%     24.750000    0.186046    0.621088    0.298386\n",
       "50%     49.500000    0.464842    1.006778    0.643041\n",
       "75%     74.250000    0.947191    1.427074    1.125461\n",
       "max     99.000000    1.862935    2.561618    2.321958"
      ]
     },
     "execution_count": 46,
     "metadata": {},
     "output_type": "execute_result"
    }
   ],
   "source": [
    "df_1.describe()"
   ]
  },
  {
   "cell_type": "code",
   "execution_count": null,
   "id": "ad94ddfe",
   "metadata": {},
   "outputs": [],
   "source": [
    "# plot the data\n",
    "import matplotlib.pyplot as plt\n",
    "import seaborn as sns"
   ]
  }
 ],
 "metadata": {
  "kernelspec": {
   "display_name": "Python 3",
   "language": "python",
   "name": "python3"
  },
  "language_info": {
   "codemirror_mode": {
    "name": "ipython",
    "version": 3
   },
   "file_extension": ".py",
   "mimetype": "text/x-python",
   "name": "python",
   "nbconvert_exporter": "python",
   "pygments_lexer": "ipython3",
   "version": "3.13.2"
  }
 },
 "nbformat": 4,
 "nbformat_minor": 5
}
